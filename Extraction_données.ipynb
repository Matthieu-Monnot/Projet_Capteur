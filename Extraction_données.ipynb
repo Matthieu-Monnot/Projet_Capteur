{
 "cells": [
  {
   "cell_type": "markdown",
   "metadata": {},
   "source": [
    "Fichiers contenant les fonctions nécessaires à l'extraction de nouvelles données et à la complétion de notre base de données."
   ]
  },
  {
   "cell_type": "code",
   "execution_count": 88,
   "metadata": {},
   "outputs": [],
   "source": [
    "import requests\n",
    "import pandas as pd\n",
    "list_capteurs = ['C45BBE384CD2', 'C45BBE386362', 'C45BBE386952', 'C45BBE39870E', 'C45BBE39F42A', 'C45BBE39F56A', 'C45BBE39F9AE', 'AB032A311FAA', 'A8032A31204E', 'C45BBE37B346']"
   ]
  },
  {
   "cell_type": "code",
   "execution_count": 93,
   "metadata": {},
   "outputs": [],
   "source": [
    "def conservation(metre):\n",
    "    for i in range (len(metre)):\n",
    "        url = 'https://cartobat.com/434152544F42415450616C616973656175/getRawDataForCartoWear/E91FBA6564D2/'+metre[i][0]+'/'+metre[i][1]\n",
    "        df=pd.read_csv('tableau_brute.csv')\n",
    "        reponse = requests.get(url)\n",
    "        contenu = reponse.json()\n",
    "        df1=pd.DataFrame(contenu['resultat'])\n",
    "        df1['metre']=30+i\n",
    "        df2=pd.concat([df, df1])\n",
    "        df2.to_csv('tableau_brute.csv', decimal='.', sep= ',', index=False)"
   ]
  },
  {
   "cell_type": "code",
   "execution_count": 94,
   "metadata": {},
   "outputs": [],
   "source": [
    "# Fonction qui met à jour les csv de chaque capteur avec la base de données brute 'fichier'\n",
    "def Data_base_capteurs_update(fichier, list_capteurs):\n",
    "    data = pd.read_csv('./'+fichier+'.csv')\n",
    "    for capteur in list_capteurs:\n",
    "        df = pd.read_csv('./Data_capteurs/csv_'+capteur+'.csv')\n",
    "        for row in data:\n",
    "            if row['macModule'] == capteur: \n",
    "                df=df.append({row['metre'] : row['rssi']} , ignore_index=True)          "
   ]
  },
  {
   "cell_type": "code",
   "execution_count": 112,
   "metadata": {},
   "outputs": [],
   "source": [
    "metre=[[\"2022-11-18%2010:16:00.000\",\"2022-11-18%2010:19:00.000\"],[\"2022-09-23%2014:33:00.000\",\"2022-09-23%2014:38:00.000\"],[\"2022-11-18%2010:20:00.000\",\"2022-11-18%2010:23:00.000\"],[\"2022-11-25%2009:40:00.000\",\"2022-11-25%2009:44:00.000\"],[\"2022-11-18%2010:24:00.000\",\"2022-11-18%2010:27:00.000\"],[\"2022-11-18%2013:06:00.000\",\"2022-11-18%2013:09:00.000\"],[\"2022-11-18%2010:28:00.000\",\"2022-11-18%2010:31:00.000\"],[\"2022-09-23%2014:40:00.000\",\"2022-09-23%2014:42:00.000\"],[\"2022-11-18%2010:32:00.000\",\"2022-11-18%2010:35:00.000\"],[\"2022-11-18%2010:36:00.000\",\"2022-11-18%2010:39:00.000\"],[\"2022-09-23%2014:42:00.000\",\"2022-09-23%2014:44:00.000\"],[\"2022-11-18%2010:40:00.000\",\"2022-11-18%2010:43:00.000\"],[\"2022-11-18%2010:44:00.000\",\"2022-11-18%2010:47:00.000\"],[\"2022-11-18%2014:37:00.000\",\"2022-11-18%2014:41:00.000\"],[\"2022-11-18%2013:10:00.000\",\"2022-11-18%2013:13:00.000\"],[\"2022-11-18%2013:10:00.999\",\"2022-11-18%2013:13:00.999\"],[\"2022-11-18%2014:32:00.000\",\"2022-11-18%2014:36:00.000\"],[\"2022-11-18%2013:10:00.999\",\"2022-11-18%2013:13:00.999\"],[\"2022-11-18%2013:10:00.999\",\"2022-11-18%2013:13:00.999\"],[\"2022-09-23%2014:48:00.000\",\"2022-09-23%2014:50:00.000\"],[\"2022-11-18%2013:10:00.999\",\"2022-11-18%2013:13:00.999\"],[\"2022-11-18%2013:10:00.999\",\"2022-11-18%2013:13:00.999\"],[\"2022-11-18%2009:19:00.000\",\"2022-11-18%2009:21:00.000\"],[\"2022-11-18%2009:22:00.000\",\"2022-11-18%2009:25:00.000\"],[\"2022-09-23%2014:50:00.000\",\"2022-09-23%2014:52:00.000\"],[\"2022-11-18%2009:26:00.000\",\"2022-11-18%2009:28:00.000\"],[\"2022-11-18%2009:29:00.000\",\"2022-11-18%2009:31:00.000\"],[\"2022-11-18%2009:32:00.000\",\"2022-11-18%2009:34:00.000\"],[\"2022-11-18%2009:35:00.000\",\"2022-11-18%2009:39:00.000\"],[\"2022-11-18%2009:40:00.000\",\"2022-11-18%2009:43:00.000\"],[\"2022-09-23%2014:52:00.000\",\"2022-09-23%2014:54:00.000\"]]"
   ]
  },
  {
   "cell_type": "code",
   "execution_count": 113,
   "metadata": {},
   "outputs": [],
   "source": [
    "conservation(metre)"
   ]
  },
  {
   "cell_type": "code",
   "execution_count": null,
   "metadata": {},
   "outputs": [],
   "source": [
    "Data_base_capteurs_update('tableau_brute', list_capteurs)"
   ]
  }
 ],
 "metadata": {
  "kernelspec": {
   "display_name": "Python 3.9.13 64-bit (microsoft store)",
   "language": "python",
   "name": "python3"
  },
  "language_info": {
   "codemirror_mode": {
    "name": "ipython",
    "version": 3
   },
   "file_extension": ".py",
   "mimetype": "text/x-python",
   "name": "python",
   "nbconvert_exporter": "python",
   "pygments_lexer": "ipython3",
   "version": "3.9.13"
  },
  "orig_nbformat": 4,
  "vscode": {
   "interpreter": {
    "hash": "80079d8dd9f7c252f0ff3be33272006cb63eba2cb77317ddc2afd11fdc1d0064"
   }
  }
 },
 "nbformat": 4,
 "nbformat_minor": 2
}
