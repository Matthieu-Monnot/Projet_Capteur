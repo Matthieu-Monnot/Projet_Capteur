{
 "cells": [
  {
   "cell_type": "markdown",
   "metadata": {},
   "source": [
    "Fichiers contenant les fonctions nécessaires à l'extraction de nouvelles données et à la complétion de notre base de données."
   ]
  },
  {
   "cell_type": "code",
   "execution_count": 12,
   "metadata": {},
   "outputs": [
    {
     "name": "stdout",
     "output_type": "stream",
     "text": [
      "<Response [200]>\n"
     ]
    }
   ],
   "source": [
    "import requests\n",
    "import pandas as pd\n",
    "import matplotlib.pyplot as plt\n",
    "url = \"https://cartobat.com/434152544F42415450616C616973656175/getRawDataForCartoWear/E91FBA6564D2/2022-09-23%2008:45:00.000/2022-09-23%2015:00:00.000\"\n",
    "reponse = requests.get(url)\n",
    "print(reponse)"
   ]
  },
  {
   "cell_type": "code",
   "execution_count": 13,
   "metadata": {},
   "outputs": [
    {
     "name": "stdout",
     "output_type": "stream",
     "text": [
      "<class 'dict'>\n"
     ]
    }
   ],
   "source": [
    "contenu = reponse.json()\n",
    "print(type(contenu))"
   ]
  },
  {
   "cell_type": "code",
   "execution_count": 22,
   "metadata": {},
   "outputs": [
    {
     "data": {
      "text/html": [
       "<div>\n",
       "<style scoped>\n",
       "    .dataframe tbody tr th:only-of-type {\n",
       "        vertical-align: middle;\n",
       "    }\n",
       "\n",
       "    .dataframe tbody tr th {\n",
       "        vertical-align: top;\n",
       "    }\n",
       "\n",
       "    .dataframe thead th {\n",
       "        text-align: right;\n",
       "    }\n",
       "</style>\n",
       "<table border=\"1\" class=\"dataframe\">\n",
       "  <thead>\n",
       "    <tr style=\"text-align: right;\">\n",
       "      <th></th>\n",
       "      <th>timestamp</th>\n",
       "      <th>macModule</th>\n",
       "      <th>rssi</th>\n",
       "    </tr>\n",
       "  </thead>\n",
       "  <tbody>\n",
       "    <tr>\n",
       "      <th>1</th>\n",
       "      <td>2022-09-23 14:59:10.578</td>\n",
       "      <td>C45BBE39870E</td>\n",
       "      <td>-74</td>\n",
       "    </tr>\n",
       "    <tr>\n",
       "      <th>2</th>\n",
       "      <td>2022-09-23 14:59:02.829</td>\n",
       "      <td>C45BBE39870E</td>\n",
       "      <td>-74</td>\n",
       "    </tr>\n",
       "    <tr>\n",
       "      <th>3</th>\n",
       "      <td>2022-09-23 14:58:53.250</td>\n",
       "      <td>C45BBE39870E</td>\n",
       "      <td>-71</td>\n",
       "    </tr>\n",
       "    <tr>\n",
       "      <th>4</th>\n",
       "      <td>2022-09-23 14:58:43.530</td>\n",
       "      <td>C45BBE39870E</td>\n",
       "      <td>-70</td>\n",
       "    </tr>\n",
       "    <tr>\n",
       "      <th>5</th>\n",
       "      <td>2022-09-23 14:58:31.897</td>\n",
       "      <td>C45BBE39870E</td>\n",
       "      <td>-71</td>\n",
       "    </tr>\n",
       "    <tr>\n",
       "      <th>...</th>\n",
       "      <td>...</td>\n",
       "      <td>...</td>\n",
       "      <td>...</td>\n",
       "    </tr>\n",
       "    <tr>\n",
       "      <th>345</th>\n",
       "      <td>2022-09-23 14:29:37.016</td>\n",
       "      <td>C45BBE39F42A</td>\n",
       "      <td>-79</td>\n",
       "    </tr>\n",
       "    <tr>\n",
       "      <th>346</th>\n",
       "      <td>2022-09-23 14:29:33.281</td>\n",
       "      <td>C45BBE39F9AE</td>\n",
       "      <td>-67</td>\n",
       "    </tr>\n",
       "    <tr>\n",
       "      <th>347</th>\n",
       "      <td>2022-09-23 14:29:33.224</td>\n",
       "      <td>A8032A31204E</td>\n",
       "      <td>-80</td>\n",
       "    </tr>\n",
       "    <tr>\n",
       "      <th>348</th>\n",
       "      <td>2022-09-23 14:29:27.275</td>\n",
       "      <td>C45BBE39F42A</td>\n",
       "      <td>-78</td>\n",
       "    </tr>\n",
       "    <tr>\n",
       "      <th>349</th>\n",
       "      <td>2022-09-23 14:29:23.507</td>\n",
       "      <td>A8032A31204E</td>\n",
       "      <td>-73</td>\n",
       "    </tr>\n",
       "  </tbody>\n",
       "</table>\n",
       "<p>349 rows × 3 columns</p>\n",
       "</div>"
      ],
      "text/plain": [
       "                   timestamp     macModule  rssi\n",
       "1    2022-09-23 14:59:10.578  C45BBE39870E   -74\n",
       "2    2022-09-23 14:59:02.829  C45BBE39870E   -74\n",
       "3    2022-09-23 14:58:53.250  C45BBE39870E   -71\n",
       "4    2022-09-23 14:58:43.530  C45BBE39870E   -70\n",
       "5    2022-09-23 14:58:31.897  C45BBE39870E   -71\n",
       "..                       ...           ...   ...\n",
       "345  2022-09-23 14:29:37.016  C45BBE39F42A   -79\n",
       "346  2022-09-23 14:29:33.281  C45BBE39F9AE   -67\n",
       "347  2022-09-23 14:29:33.224  A8032A31204E   -80\n",
       "348  2022-09-23 14:29:27.275  C45BBE39F42A   -78\n",
       "349  2022-09-23 14:29:23.507  A8032A31204E   -73\n",
       "\n",
       "[349 rows x 3 columns]"
      ]
     },
     "execution_count": 22,
     "metadata": {},
     "output_type": "execute_result"
    }
   ],
   "source": [
    "\n",
    "def conservation(metre):\n",
    "    for i in range (len(metre)):\n",
    "        url = 'https://cartobat.com/434152544F42415450616C616973656175/getRawDataForCartoWear/E91FBA6564D2/'+metre[i][0]+'/'+metre[i][1]\n",
    "        df=pd.read_csv('tableau_brute.csv')\n",
    "        reponse = requests.get(url)\n",
    "        contenu = reponse.json()\n",
    "        contenu['resultat']\n",
    "        df1=pd.DataFrame(contenu['resultat'])\n",
    "        df1['metre']=30+i\n",
    "        df2=pd.concat([df, df1])\n",
    "        df2.to_csv('tableau_brute.csv')\n"
   ]
  }
 ],
 "metadata": {
  "kernelspec": {
   "display_name": "Python 3.10.8 64-bit",
   "language": "python",
   "name": "python3"
  },
  "language_info": {
   "codemirror_mode": {
    "name": "ipython",
    "version": 3
   },
   "file_extension": ".py",
   "mimetype": "text/x-python",
   "name": "python",
   "nbconvert_exporter": "python",
   "pygments_lexer": "ipython3",
   "version": "3.10.8"
  },
  "orig_nbformat": 4,
  "vscode": {
   "interpreter": {
    "hash": "aee8b7b246df8f9039afb4144a1f6fd8d2ca17a180786b69acc140d282b71a49"
   }
  }
 },
 "nbformat": 4,
 "nbformat_minor": 2
}
