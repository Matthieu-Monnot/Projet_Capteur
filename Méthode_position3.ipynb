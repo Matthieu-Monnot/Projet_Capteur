{
 "cells": [
  {
   "cell_type": "code",
   "execution_count": 6,
   "metadata": {},
   "outputs": [],
   "source": [
    "import requests\n",
    "import pandas as pd\n",
    "import collections"
   ]
  },
  {
   "cell_type": "code",
   "execution_count": 9,
   "metadata": {},
   "outputs": [],
   "source": [
    "Capt1=pd.read_csv('./Data_capteurs/csv_A8032A31204E.csv')\n",
    "Capt2=pd.read_csv('./Data_capteurs/csv_AB032A311FAA.csv')\n",
    "Capt3=pd.read_csv('./Data_capteurs/csv_C45BBE37B346.csv')\n",
    "Capt4=pd.read_csv('./Data_capteurs/csv_C45BBE39F9AE.csv')\n",
    "Capt5=pd.read_csv('./Data_capteurs/csv_C45BBE39F42A.csv')\n",
    "Capt6=pd.read_csv('./Data_capteurs/csv_C45BBE39F56A.csv')\n",
    "Capt7=pd.read_csv('./Data_capteurs/csv_C45BBE384CD2.csv')\n",
    "Capt8=pd.read_csv('./Data_capteurs/csv_C45BBE39870E.csv')\n",
    "Capt9=pd.read_csv('./Data_capteurs/csv_C45BBE386362.csv')\n",
    "Capt10=pd.read_csv('./Data_capteurs/csv_C45BBE386952.csv')\n",
    "\n",
    "List_Capt=[Capt1,Capt2,Capt3,Capt4,Capt5,Capt6,Capt7,Capt8,Capt9,Capt10]\n",
    "#liste_df <- split(df, df$ID)"
   ]
  },
  {
   "cell_type": "code",
   "execution_count": null,
   "metadata": {},
   "outputs": [],
   "source": [
    "def list_duplicates(seq):\n",
    "  seen = set()\n",
    "  seen_add = seen.add\n",
    "  seen_twice = set( x for x in seq if x in seen or seen_add(x) )\n",
    "  return list( seen_twice )"
   ]
  },
  {
   "cell_type": "code",
   "execution_count": null,
   "metadata": {},
   "outputs": [],
   "source": [
    "##comparaison du rssi trouvé par capteur par rapport à l'ensemble\n",
    "\n",
    "différents_rssi=[]\n",
    "\n",
    "def position3(différents_rssi):\n",
    "    L=[]\n",
    "    for i in List_Capt :\n",
    "        for k in List_Capt[i] :\n",
    "            if List_Capt[i][k] == différents_rssi[i]:\n",
    "                L.append(List_Capt[i][k])\n",
    "    if list_duplicates(L)!=[] :\n",
    "        #faire la moyenne\n",
    "    else :\n",
    "        print(collections.Counter(L).most_common())"
   ]
  }
 ],
 "metadata": {
  "kernelspec": {
   "display_name": "Python 3.10.8 64-bit",
   "language": "python",
   "name": "python3"
  },
  "language_info": {
   "codemirror_mode": {
    "name": "ipython",
    "version": 3
   },
   "file_extension": ".py",
   "mimetype": "text/x-python",
   "name": "python",
   "nbconvert_exporter": "python",
   "pygments_lexer": "ipython3",
   "version": "3.10.8"
  },
  "orig_nbformat": 4,
  "vscode": {
   "interpreter": {
    "hash": "aee8b7b246df8f9039afb4144a1f6fd8d2ca17a180786b69acc140d282b71a49"
   }
  }
 },
 "nbformat": 4,
 "nbformat_minor": 2
}
