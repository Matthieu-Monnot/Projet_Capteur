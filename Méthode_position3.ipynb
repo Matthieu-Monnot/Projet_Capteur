{
 "cells": [
  {
   "cell_type": "code",
   "execution_count": 2,
   "metadata": {},
   "outputs": [],
   "source": [
    "import requests\n",
    "import pandas as pd"
   ]
  },
  {
   "cell_type": "code",
   "execution_count": 3,
   "metadata": {},
   "outputs": [],
   "source": [
    "Capt1=pd.read_csv('./Data_capteurs/csv_A8032A31204E.csv')\n",
    "Capt2=pd.read_csv('./Data_capteurs/csv_AB032A311FAA.csv')\n",
    "Capt3=pd.read_csv('./Data_capteurs/csv_C45BBE37B346.csv')\n",
    "Capt4=pd.read_csv('./Data_capteurs/csv_C45BBE39F9AE.csv')\n",
    "Capt5=pd.read_csv('./Data_capteurs/csv_C45BBE39F42A.csv')\n",
    "Capt6=pd.read_csv('./Data_capteurs/csv_C45BBE39F56A.csv')\n",
    "Capt7=pd.read_csv('./Data_capteurs/csv_C45BBE384CD2.csv')\n",
    "Capt8=pd.read_csv('./Data_capteurs/csv_C45BBE39870E.csv')\n",
    "Capt9=pd.read_csv('./Data_capteurs/csv_C45BBE386362.csv')\n",
    "Capt10=pd.read_csv('./Data_capteurs/csv_C45BBE386952.csv')\n",
    "\n",
    "List_Capt=[Capt1,Capt2,Capt3,Capt4,Capt5,Capt6,Capt7,Capt8,Capt9,Capt10]\n",
    "#liste_df <- split(df, df$ID)"
   ]
  },
  {
   "cell_type": "code",
   "execution_count": 4,
   "metadata": {},
   "outputs": [],
   "source": [
    "def list_duplicates(seq):\n",
    "  seen = set()\n",
    "  seen_add = seen.add\n",
    "  seen_twice = set( x for x in seq if x in seen or seen_add(x) )\n",
    "  return list( seen_twice )"
   ]
  },
  {
   "cell_type": "code",
   "execution_count": 12,
   "metadata": {},
   "outputs": [],
   "source": [
    "# comparaison du rssi trouvé par capteur par rapport à l'ensemble\n",
    "\n",
    "différents_rssi=[]\n",
    "\n",
    "def position3(différents_rssi):\n",
    "    L=[]\n",
    "    for i in range(len(List_Capt)):\n",
    "        for col in List_Capt[i].columns:\n",
    "            df2=pd.DataFrame(List_Capt[i][col])\n",
    "            for index, row in df2.iterrows():\n",
    "                if row[0] == différents_rssi[i]:\n",
    "                    L.append(int(col))\n",
    "    if list_duplicates(L)!=[]:\n",
    "        return sum(list_duplicates(L)) / len(list_duplicates(L))\n",
    "    else:\n",
    "        return sum(L) / len(L)"
   ]
  },
  {
   "cell_type": "code",
   "execution_count": 16,
   "metadata": {},
   "outputs": [
    {
     "ename": "ZeroDivisionError",
     "evalue": "division by zero",
     "output_type": "error",
     "traceback": [
      "\u001b[1;31m---------------------------------------------------------------------------\u001b[0m",
      "\u001b[1;31mZeroDivisionError\u001b[0m                         Traceback (most recent call last)",
      "\u001b[1;32mc:\\Users\\matth\\Dev\\Master\\Projet_Capteur\\Méthode_position3.ipynb Cellule 5\u001b[0m in \u001b[0;36m<cell line: 1>\u001b[1;34m()\u001b[0m\n\u001b[1;32m----> <a href='vscode-notebook-cell:/c%3A/Users/matth/Dev/Master/Projet_Capteur/M%C3%A9thode_position3.ipynb#W5sZmlsZQ%3D%3D?line=0'>1</a>\u001b[0m position3([\u001b[39m0\u001b[39;49m, \u001b[39m0\u001b[39;49m, \u001b[39m0\u001b[39;49m, \u001b[39m0\u001b[39;49m, \u001b[39m0\u001b[39;49m, \u001b[39m0\u001b[39;49m, \u001b[39m0\u001b[39;49m, \u001b[39m-\u001b[39;49m\u001b[39m60\u001b[39;49m, \u001b[39m-\u001b[39;49m\u001b[39m70\u001b[39;49m, \u001b[39m-\u001b[39;49m\u001b[39m50\u001b[39;49m])\n",
      "\u001b[1;32mc:\\Users\\matth\\Dev\\Master\\Projet_Capteur\\Méthode_position3.ipynb Cellule 5\u001b[0m in \u001b[0;36mposition3\u001b[1;34m(différents_rssi)\u001b[0m\n\u001b[0;32m     <a href='vscode-notebook-cell:/c%3A/Users/matth/Dev/Master/Projet_Capteur/M%C3%A9thode_position3.ipynb#W5sZmlsZQ%3D%3D?line=13'>14</a>\u001b[0m     \u001b[39mreturn\u001b[39;00m \u001b[39msum\u001b[39m(list_duplicates(L)) \u001b[39m/\u001b[39m \u001b[39mlen\u001b[39m(list_duplicates(L))\n\u001b[0;32m     <a href='vscode-notebook-cell:/c%3A/Users/matth/Dev/Master/Projet_Capteur/M%C3%A9thode_position3.ipynb#W5sZmlsZQ%3D%3D?line=14'>15</a>\u001b[0m \u001b[39melse\u001b[39;00m:\n\u001b[1;32m---> <a href='vscode-notebook-cell:/c%3A/Users/matth/Dev/Master/Projet_Capteur/M%C3%A9thode_position3.ipynb#W5sZmlsZQ%3D%3D?line=15'>16</a>\u001b[0m     \u001b[39mreturn\u001b[39;00m \u001b[39msum\u001b[39;49m(L) \u001b[39m/\u001b[39;49m \u001b[39mlen\u001b[39;49m(L)\n",
      "\u001b[1;31mZeroDivisionError\u001b[0m: division by zero"
     ]
    }
   ],
   "source": [
    "position3([0, 0, 0, 0, 0, 0, 0, -60, -70, -50])"
   ]
  },
  {
   "cell_type": "code",
   "execution_count": null,
   "metadata": {},
   "outputs": [],
   "source": []
  }
 ],
 "metadata": {
  "kernelspec": {
   "display_name": "Python 3.9.13 64-bit (microsoft store)",
   "language": "python",
   "name": "python3"
  },
  "language_info": {
   "codemirror_mode": {
    "name": "ipython",
    "version": 3
   },
   "file_extension": ".py",
   "mimetype": "text/x-python",
   "name": "python",
   "nbconvert_exporter": "python",
   "pygments_lexer": "ipython3",
   "version": "3.9.13"
  },
  "orig_nbformat": 4,
  "vscode": {
   "interpreter": {
    "hash": "80079d8dd9f7c252f0ff3be33272006cb63eba2cb77317ddc2afd11fdc1d0064"
   }
  }
 },
 "nbformat": 4,
 "nbformat_minor": 2
}
