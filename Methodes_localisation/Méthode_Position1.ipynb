{
 "cells": [
  {
   "cell_type": "code",
   "execution_count": 1,
   "metadata": {},
   "outputs": [],
   "source": [
    "import requests    \n",
    "import pandas as pd"
   ]
  },
  {
   "cell_type": "code",
   "execution_count": 2,
   "metadata": {},
   "outputs": [],
   "source": [
    "def methode1position(t1=\"08:45\",t2=\"09:46\"):\n",
    "   url = \"https://cartobat.com/434152544F42415450616C616973656175/getRawDataForCartoWear/E91FBA6564D2/2022-09-23%20\"+t1+\":00.000/2022-11-25%20\"+t2+\":00.000\"\n",
    "\n",
    "   reponse = requests.get(url)\n",
    "   print(reponse)\n",
    "   contenu = reponse.json()\n",
    "   print(type(contenu))\n",
    "   \n",
    "   test = pd.DataFrame(contenu['resultat'])\n",
    "   test[\"macModule\"].unique()\n",
    "   test[\"date\"] = pd.to_datetime(test[\"timestamp\"])\n",
    "   test = test.sort_values('timestamp').reset_index()\n",
    "   test['Time'] = pd.to_datetime(test['date']).dt.time\n",
    "   test['hourMinute'] = test.date.dt.hour.astype(str) + 'h' + test.date.dt.minute.astype(str)\n",
    "   test=test.drop(columns=[\"timestamp\",\"date\",\"Time\",\"index\"])\n",
    "\n",
    "   my_map={'A8032A31204E':\"A8032A31204E_29m\", 'C45BBE37B346':\"C45BBE37B346_52m\", 'C45BBE39F9AE':\"C45BBE39F9AE_13m\", 'A8032A311FAA':\"A8032A311FAA_4m\",\n",
    "       'C45BBE39F56A':\"C45BBE39F56A_56m\", 'C45BBE386952':\"C45BBE386952_65m\", 'C45BBE384CD2':\"C45BBE384CD2_89m\", 'C45BBE386362':\"C45BBE386362_80m\"}\n",
    "   test[\"macModule\"]=test[\"macModule\"].map(my_map)\n",
    "\n",
    "   my_map_dist={\"A8032A31204E_29m\":29,\"C45BBE37B346_52m\":52,\"C45BBE39F9AE_13m\":13, \"A8032A311FAA_4m\":4,\n",
    "       \"C45BBE39F56A_56m\":56, \"C45BBE386952_65m\":65, \"C45BBE384CD2_89m\":89, \"C45BBE386362_80m\":80}\n",
    "   test[\"Positions\"]=test[\"macModule\"].map(my_map_dist)\n",
    "   INDEX=test[\"rssi\"].sort_values(ascending=False).index\n",
    "   sq=test.iloc[INDEX[0]][\"Positions\"]\n",
    "   return sq"
   ]
  },
  {
   "cell_type": "code",
   "execution_count": 3,
   "metadata": {},
   "outputs": [
    {
     "name": "stdout",
     "output_type": "stream",
     "text": [
      "<Response [200]>\n",
      "<class 'dict'>\n"
     ]
    },
    {
     "data": {
      "text/plain": [
       "13.0"
      ]
     },
     "execution_count": 3,
     "metadata": {},
     "output_type": "execute_result"
    }
   ],
   "source": [
    "methode1position(t1=\"08:45\",t2=\"09:46\")"
   ]
  },
  {
   "cell_type": "code",
   "execution_count": null,
   "metadata": {},
   "outputs": [],
   "source": []
  }
 ],
 "metadata": {
  "kernelspec": {
   "display_name": "Python 3.9.13 64-bit (microsoft store)",
   "language": "python",
   "name": "python3"
  },
  "language_info": {
   "codemirror_mode": {
    "name": "ipython",
    "version": 3
   },
   "file_extension": ".py",
   "mimetype": "text/x-python",
   "name": "python",
   "nbconvert_exporter": "python",
   "pygments_lexer": "ipython3",
   "version": "3.9.13"
  },
  "orig_nbformat": 4,
  "vscode": {
   "interpreter": {
    "hash": "80079d8dd9f7c252f0ff3be33272006cb63eba2cb77317ddc2afd11fdc1d0064"
   }
  }
 },
 "nbformat": 4,
 "nbformat_minor": 2
}
