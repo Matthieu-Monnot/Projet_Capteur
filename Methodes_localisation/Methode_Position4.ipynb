{
 "cells": [
  {
   "cell_type": "code",
   "execution_count": 2,
   "metadata": {},
   "outputs": [],
   "source": [
    "import requests\n",
    "import pandas as pd\n",
    "import matplotlib.pyplot as plt"
   ]
  },
  {
   "cell_type": "code",
   "execution_count": 1,
   "metadata": {},
   "outputs": [],
   "source": [
    "list_capteurs = ['C45BBE384CD2', 'C45BBE386362', 'C45BBE386952', 'C45BBE39870E', 'C45BBE39F42A', 'C45BBE39F56A', 'C45BBE39F9AE', 'AB032A311FAA', 'A8032A31204E', 'C45BBE37B346']\n",
    "list_capteurs_dist = {'C45BBE384CD2' : 89, 'C45BBE386362' : 80, 'C45BBE386952' : 65, 'C45BBE39870E' : 0, 'C45BBE39F42A' : 0, 'C45BBE39F56A' : 56, 'C45BBE39F9AE' : 13, 'AB032A311FAA' : 4, 'A8032A31204E' : 29, 'C45BBE37B346' : 52}"
   ]
  },
  {
   "cell_type": "code",
   "execution_count": 3,
   "metadata": {},
   "outputs": [],
   "source": [
    "csv_M_30= pd.read_csv('../Data_metres/csv_M_30.csv')\n",
    "csv_M_31= pd.read_csv('../Data_metres/csv_M_31.csv')\n",
    "csv_M_32= pd.read_csv('../Data_metres/csv_M_32.csv')\n",
    "csv_M_33= pd.read_csv('../Data_metres/csv_M_33.csv')\n",
    "csv_M_34= pd.read_csv('../Data_metres/csv_M_34.csv')\n",
    "csv_M_35= pd.read_csv('../Data_metres/csv_M_35.csv')\n",
    "csv_M_36= pd.read_csv('../Data_metres/csv_M_36.csv')\n",
    "csv_M_37= pd.read_csv('../Data_metres/csv_M_37.csv')\n",
    "csv_M_38= pd.read_csv('../Data_metres/csv_M_38.csv')\n",
    "csv_M_39= pd.read_csv('../Data_metres/csv_M_39.csv')\n",
    "csv_M_40= pd.read_csv('../Data_metres/csv_M_40.csv')\n",
    "csv_M_41= pd.read_csv('../Data_metres/csv_M_41.csv')\n",
    "csv_M_42= pd.read_csv('../Data_metres/csv_M_42.csv')\n",
    "csv_M_43= pd.read_csv('../Data_metres/csv_M_43.csv')\n",
    "csv_M_44= pd.read_csv('../Data_metres/csv_M_44.csv')\n",
    "csv_M_45= pd.read_csv('../Data_metres/csv_M_45.csv')\n",
    "csv_M_46= pd.read_csv('../Data_metres/csv_M_46.csv')\n",
    "csv_M_47= pd.read_csv('../Data_metres/csv_M_47.csv')\n",
    "csv_M_48= pd.read_csv('../Data_metres/csv_M_48.csv')\n",
    "csv_M_49= pd.read_csv('../Data_metres/csv_M_49.csv')\n",
    "csv_M_50= pd.read_csv('../Data_metres/csv_M_50.csv')\n",
    "csv_M_51= pd.read_csv('../Data_metres/csv_M_51.csv')\n",
    "csv_M_52= pd.read_csv('../Data_metres/csv_M_52.csv')\n",
    "csv_M_53= pd.read_csv('../Data_metres/csv_M_53.csv')\n",
    "csv_M_54= pd.read_csv('../Data_metres/csv_M_54.csv')\n",
    "csv_M_55= pd.read_csv('../Data_metres/csv_M_55.csv')\n",
    "csv_M_56= pd.read_csv('../Data_metres/csv_M_56.csv')\n",
    "csv_M_57= pd.read_csv('../Data_metres/csv_M_57.csv')\n",
    "csv_M_58= pd.read_csv('../Data_metres/csv_M_58.csv')\n",
    "csv_M_59= pd.read_csv('../Data_metres/csv_M_59.csv')\n",
    "csv_M_60= pd.read_csv('../Data_metres/csv_M_60.csv')"
   ]
  },
  {
   "cell_type": "code",
   "execution_count": 4,
   "metadata": {},
   "outputs": [
    {
     "data": {
      "text/html": [
       "<div>\n",
       "<style scoped>\n",
       "    .dataframe tbody tr th:only-of-type {\n",
       "        vertical-align: middle;\n",
       "    }\n",
       "\n",
       "    .dataframe tbody tr th {\n",
       "        vertical-align: top;\n",
       "    }\n",
       "\n",
       "    .dataframe thead th {\n",
       "        text-align: right;\n",
       "    }\n",
       "</style>\n",
       "<table border=\"1\" class=\"dataframe\">\n",
       "  <thead>\n",
       "    <tr style=\"text-align: right;\">\n",
       "      <th></th>\n",
       "      <th>C45BBE384CD2</th>\n",
       "      <th>C45BBE386362</th>\n",
       "      <th>C45BBE386952</th>\n",
       "      <th>C45BBE39870E</th>\n",
       "      <th>C45BBE39F42A</th>\n",
       "      <th>C45BBE39F56A</th>\n",
       "      <th>C45BBE39F9AE</th>\n",
       "      <th>AB032A311FAA</th>\n",
       "      <th>A8032A31204E</th>\n",
       "      <th>C45BBE37B346</th>\n",
       "    </tr>\n",
       "  </thead>\n",
       "  <tbody>\n",
       "    <tr>\n",
       "      <th>0</th>\n",
       "      <td>0.0</td>\n",
       "      <td>0.0</td>\n",
       "      <td>0.0</td>\n",
       "      <td>0.0</td>\n",
       "      <td>0.0</td>\n",
       "      <td>0.0</td>\n",
       "      <td>0.0</td>\n",
       "      <td>0.0</td>\n",
       "      <td>-70.0</td>\n",
       "      <td>0.0</td>\n",
       "    </tr>\n",
       "    <tr>\n",
       "      <th>1</th>\n",
       "      <td>0.0</td>\n",
       "      <td>0.0</td>\n",
       "      <td>0.0</td>\n",
       "      <td>0.0</td>\n",
       "      <td>0.0</td>\n",
       "      <td>0.0</td>\n",
       "      <td>0.0</td>\n",
       "      <td>0.0</td>\n",
       "      <td>-66.0</td>\n",
       "      <td>0.0</td>\n",
       "    </tr>\n",
       "    <tr>\n",
       "      <th>2</th>\n",
       "      <td>0.0</td>\n",
       "      <td>0.0</td>\n",
       "      <td>0.0</td>\n",
       "      <td>0.0</td>\n",
       "      <td>0.0</td>\n",
       "      <td>0.0</td>\n",
       "      <td>0.0</td>\n",
       "      <td>0.0</td>\n",
       "      <td>-65.0</td>\n",
       "      <td>0.0</td>\n",
       "    </tr>\n",
       "    <tr>\n",
       "      <th>3</th>\n",
       "      <td>0.0</td>\n",
       "      <td>0.0</td>\n",
       "      <td>0.0</td>\n",
       "      <td>0.0</td>\n",
       "      <td>0.0</td>\n",
       "      <td>0.0</td>\n",
       "      <td>0.0</td>\n",
       "      <td>0.0</td>\n",
       "      <td>-51.0</td>\n",
       "      <td>0.0</td>\n",
       "    </tr>\n",
       "    <tr>\n",
       "      <th>4</th>\n",
       "      <td>0.0</td>\n",
       "      <td>0.0</td>\n",
       "      <td>0.0</td>\n",
       "      <td>0.0</td>\n",
       "      <td>0.0</td>\n",
       "      <td>0.0</td>\n",
       "      <td>0.0</td>\n",
       "      <td>0.0</td>\n",
       "      <td>-49.0</td>\n",
       "      <td>0.0</td>\n",
       "    </tr>\n",
       "    <tr>\n",
       "      <th>5</th>\n",
       "      <td>0.0</td>\n",
       "      <td>0.0</td>\n",
       "      <td>0.0</td>\n",
       "      <td>0.0</td>\n",
       "      <td>0.0</td>\n",
       "      <td>0.0</td>\n",
       "      <td>0.0</td>\n",
       "      <td>0.0</td>\n",
       "      <td>-55.0</td>\n",
       "      <td>0.0</td>\n",
       "    </tr>\n",
       "    <tr>\n",
       "      <th>6</th>\n",
       "      <td>0.0</td>\n",
       "      <td>0.0</td>\n",
       "      <td>0.0</td>\n",
       "      <td>0.0</td>\n",
       "      <td>0.0</td>\n",
       "      <td>0.0</td>\n",
       "      <td>0.0</td>\n",
       "      <td>0.0</td>\n",
       "      <td>-55.0</td>\n",
       "      <td>0.0</td>\n",
       "    </tr>\n",
       "    <tr>\n",
       "      <th>7</th>\n",
       "      <td>0.0</td>\n",
       "      <td>0.0</td>\n",
       "      <td>0.0</td>\n",
       "      <td>0.0</td>\n",
       "      <td>0.0</td>\n",
       "      <td>0.0</td>\n",
       "      <td>0.0</td>\n",
       "      <td>0.0</td>\n",
       "      <td>-61.0</td>\n",
       "      <td>0.0</td>\n",
       "    </tr>\n",
       "    <tr>\n",
       "      <th>8</th>\n",
       "      <td>0.0</td>\n",
       "      <td>0.0</td>\n",
       "      <td>0.0</td>\n",
       "      <td>0.0</td>\n",
       "      <td>0.0</td>\n",
       "      <td>0.0</td>\n",
       "      <td>0.0</td>\n",
       "      <td>0.0</td>\n",
       "      <td>-54.0</td>\n",
       "      <td>0.0</td>\n",
       "    </tr>\n",
       "    <tr>\n",
       "      <th>9</th>\n",
       "      <td>0.0</td>\n",
       "      <td>0.0</td>\n",
       "      <td>0.0</td>\n",
       "      <td>0.0</td>\n",
       "      <td>0.0</td>\n",
       "      <td>0.0</td>\n",
       "      <td>0.0</td>\n",
       "      <td>0.0</td>\n",
       "      <td>-56.0</td>\n",
       "      <td>0.0</td>\n",
       "    </tr>\n",
       "    <tr>\n",
       "      <th>10</th>\n",
       "      <td>0.0</td>\n",
       "      <td>0.0</td>\n",
       "      <td>0.0</td>\n",
       "      <td>0.0</td>\n",
       "      <td>0.0</td>\n",
       "      <td>0.0</td>\n",
       "      <td>0.0</td>\n",
       "      <td>0.0</td>\n",
       "      <td>-72.0</td>\n",
       "      <td>0.0</td>\n",
       "    </tr>\n",
       "    <tr>\n",
       "      <th>11</th>\n",
       "      <td>0.0</td>\n",
       "      <td>0.0</td>\n",
       "      <td>0.0</td>\n",
       "      <td>0.0</td>\n",
       "      <td>0.0</td>\n",
       "      <td>0.0</td>\n",
       "      <td>0.0</td>\n",
       "      <td>0.0</td>\n",
       "      <td>-80.0</td>\n",
       "      <td>0.0</td>\n",
       "    </tr>\n",
       "    <tr>\n",
       "      <th>12</th>\n",
       "      <td>0.0</td>\n",
       "      <td>0.0</td>\n",
       "      <td>0.0</td>\n",
       "      <td>0.0</td>\n",
       "      <td>0.0</td>\n",
       "      <td>0.0</td>\n",
       "      <td>0.0</td>\n",
       "      <td>0.0</td>\n",
       "      <td>-71.0</td>\n",
       "      <td>0.0</td>\n",
       "    </tr>\n",
       "    <tr>\n",
       "      <th>13</th>\n",
       "      <td>0.0</td>\n",
       "      <td>0.0</td>\n",
       "      <td>0.0</td>\n",
       "      <td>0.0</td>\n",
       "      <td>0.0</td>\n",
       "      <td>0.0</td>\n",
       "      <td>0.0</td>\n",
       "      <td>0.0</td>\n",
       "      <td>-71.0</td>\n",
       "      <td>0.0</td>\n",
       "    </tr>\n",
       "    <tr>\n",
       "      <th>14</th>\n",
       "      <td>0.0</td>\n",
       "      <td>0.0</td>\n",
       "      <td>0.0</td>\n",
       "      <td>0.0</td>\n",
       "      <td>0.0</td>\n",
       "      <td>0.0</td>\n",
       "      <td>0.0</td>\n",
       "      <td>0.0</td>\n",
       "      <td>-72.0</td>\n",
       "      <td>0.0</td>\n",
       "    </tr>\n",
       "    <tr>\n",
       "      <th>15</th>\n",
       "      <td>0.0</td>\n",
       "      <td>0.0</td>\n",
       "      <td>0.0</td>\n",
       "      <td>0.0</td>\n",
       "      <td>0.0</td>\n",
       "      <td>0.0</td>\n",
       "      <td>0.0</td>\n",
       "      <td>0.0</td>\n",
       "      <td>-54.0</td>\n",
       "      <td>0.0</td>\n",
       "    </tr>\n",
       "    <tr>\n",
       "      <th>16</th>\n",
       "      <td>0.0</td>\n",
       "      <td>0.0</td>\n",
       "      <td>0.0</td>\n",
       "      <td>0.0</td>\n",
       "      <td>0.0</td>\n",
       "      <td>0.0</td>\n",
       "      <td>0.0</td>\n",
       "      <td>0.0</td>\n",
       "      <td>-68.0</td>\n",
       "      <td>0.0</td>\n",
       "    </tr>\n",
       "    <tr>\n",
       "      <th>17</th>\n",
       "      <td>0.0</td>\n",
       "      <td>0.0</td>\n",
       "      <td>0.0</td>\n",
       "      <td>0.0</td>\n",
       "      <td>0.0</td>\n",
       "      <td>0.0</td>\n",
       "      <td>0.0</td>\n",
       "      <td>0.0</td>\n",
       "      <td>-61.0</td>\n",
       "      <td>0.0</td>\n",
       "    </tr>\n",
       "    <tr>\n",
       "      <th>18</th>\n",
       "      <td>0.0</td>\n",
       "      <td>0.0</td>\n",
       "      <td>0.0</td>\n",
       "      <td>0.0</td>\n",
       "      <td>0.0</td>\n",
       "      <td>0.0</td>\n",
       "      <td>0.0</td>\n",
       "      <td>0.0</td>\n",
       "      <td>0.0</td>\n",
       "      <td>-80.0</td>\n",
       "    </tr>\n",
       "  </tbody>\n",
       "</table>\n",
       "</div>"
      ],
      "text/plain": [
       "    C45BBE384CD2  C45BBE386362  C45BBE386952  C45BBE39870E  C45BBE39F42A  \\\n",
       "0            0.0           0.0           0.0           0.0           0.0   \n",
       "1            0.0           0.0           0.0           0.0           0.0   \n",
       "2            0.0           0.0           0.0           0.0           0.0   \n",
       "3            0.0           0.0           0.0           0.0           0.0   \n",
       "4            0.0           0.0           0.0           0.0           0.0   \n",
       "5            0.0           0.0           0.0           0.0           0.0   \n",
       "6            0.0           0.0           0.0           0.0           0.0   \n",
       "7            0.0           0.0           0.0           0.0           0.0   \n",
       "8            0.0           0.0           0.0           0.0           0.0   \n",
       "9            0.0           0.0           0.0           0.0           0.0   \n",
       "10           0.0           0.0           0.0           0.0           0.0   \n",
       "11           0.0           0.0           0.0           0.0           0.0   \n",
       "12           0.0           0.0           0.0           0.0           0.0   \n",
       "13           0.0           0.0           0.0           0.0           0.0   \n",
       "14           0.0           0.0           0.0           0.0           0.0   \n",
       "15           0.0           0.0           0.0           0.0           0.0   \n",
       "16           0.0           0.0           0.0           0.0           0.0   \n",
       "17           0.0           0.0           0.0           0.0           0.0   \n",
       "18           0.0           0.0           0.0           0.0           0.0   \n",
       "\n",
       "    C45BBE39F56A  C45BBE39F9AE  AB032A311FAA  A8032A31204E  C45BBE37B346  \n",
       "0            0.0           0.0           0.0         -70.0           0.0  \n",
       "1            0.0           0.0           0.0         -66.0           0.0  \n",
       "2            0.0           0.0           0.0         -65.0           0.0  \n",
       "3            0.0           0.0           0.0         -51.0           0.0  \n",
       "4            0.0           0.0           0.0         -49.0           0.0  \n",
       "5            0.0           0.0           0.0         -55.0           0.0  \n",
       "6            0.0           0.0           0.0         -55.0           0.0  \n",
       "7            0.0           0.0           0.0         -61.0           0.0  \n",
       "8            0.0           0.0           0.0         -54.0           0.0  \n",
       "9            0.0           0.0           0.0         -56.0           0.0  \n",
       "10           0.0           0.0           0.0         -72.0           0.0  \n",
       "11           0.0           0.0           0.0         -80.0           0.0  \n",
       "12           0.0           0.0           0.0         -71.0           0.0  \n",
       "13           0.0           0.0           0.0         -71.0           0.0  \n",
       "14           0.0           0.0           0.0         -72.0           0.0  \n",
       "15           0.0           0.0           0.0         -54.0           0.0  \n",
       "16           0.0           0.0           0.0         -68.0           0.0  \n",
       "17           0.0           0.0           0.0         -61.0           0.0  \n",
       "18           0.0           0.0           0.0           0.0         -80.0  "
      ]
     },
     "execution_count": 4,
     "metadata": {},
     "output_type": "execute_result"
    }
   ],
   "source": [
    "csv_M_30"
   ]
  },
  {
   "cell_type": "code",
   "execution_count": 34,
   "metadata": {},
   "outputs": [],
   "source": [
    "#J'enlève les colonnes avec que des 0.0\n",
    "csv_M_30 = csv_M_30.loc[:, (csv_M_30 != 0.0).any(axis=0)]\n",
    "csv_M_31 = csv_M_31.loc[:, (csv_M_31 != 0.0).any(axis=0)]\n",
    "csv_M_32 = csv_M_32.loc[:, (csv_M_32 != 0.0).any(axis=0)]\n",
    "csv_M_33 = csv_M_33.loc[:, (csv_M_33 != 0.0).any(axis=0)]\n",
    "csv_M_34 = csv_M_34.loc[:, (csv_M_34 != 0.0).any(axis=0)]\n",
    "csv_M_35 = csv_M_35.loc[:, (csv_M_35 != 0.0).any(axis=0)]\n",
    "csv_M_36 = csv_M_36.loc[:, (csv_M_36 != 0.0).any(axis=0)]\n",
    "csv_M_37 = csv_M_37.loc[:, (csv_M_37 != 0.0).any(axis=0)]\n",
    "csv_M_38 = csv_M_38.loc[:, (csv_M_38 != 0.0).any(axis=0)]\n",
    "csv_M_39 = csv_M_39.loc[:, (csv_M_39 != 0.0).any(axis=0)]\n",
    "csv_M_40 = csv_M_40.loc[:, (csv_M_40 != 0.0).any(axis=0)]\n",
    "csv_M_41 = csv_M_41.loc[:, (csv_M_41 != 0.0).any(axis=0)]\n",
    "csv_M_42 = csv_M_42.loc[:, (csv_M_42 != 0.0).any(axis=0)]\n",
    "csv_M_43 = csv_M_43.loc[:, (csv_M_43 != 0.0).any(axis=0)]\n",
    "csv_M_44 = csv_M_44.loc[:, (csv_M_44 != 0.0).any(axis=0)]\n",
    "csv_M_45 = csv_M_45.loc[:, (csv_M_45 != 0.0).any(axis=0)]\n",
    "csv_M_46 = csv_M_46.loc[:, (csv_M_46 != 0.0).any(axis=0)]\n",
    "csv_M_47 = csv_M_47.loc[:, (csv_M_47 != 0.0).any(axis=0)]\n",
    "csv_M_48 = csv_M_48.loc[:, (csv_M_48 != 0.0).any(axis=0)]\n",
    "csv_M_49 = csv_M_49.loc[:, (csv_M_49 != 0.0).any(axis=0)]\n",
    "csv_M_50 = csv_M_50.loc[:, (csv_M_50 != 0.0).any(axis=0)]\n",
    "csv_M_51 = csv_M_51.loc[:, (csv_M_51 != 0.0).any(axis=0)]\n",
    "csv_M_52 = csv_M_52.loc[:, (csv_M_52 != 0.0).any(axis=0)]\n",
    "csv_M_53 = csv_M_53.loc[:, (csv_M_53 != 0.0).any(axis=0)]\n",
    "csv_M_54 = csv_M_54.loc[:, (csv_M_54 != 0.0).any(axis=0)]\n",
    "csv_M_55 = csv_M_55.loc[:, (csv_M_55 != 0.0).any(axis=0)]\n",
    "csv_M_56 = csv_M_56.loc[:, (csv_M_56 != 0.0).any(axis=0)]\n",
    "csv_M_57 = csv_M_57.loc[:, (csv_M_57 != 0.0).any(axis=0)]\n",
    "csv_M_58 = csv_M_58.loc[:, (csv_M_58 != 0.0).any(axis=0)]\n",
    "csv_M_59 = csv_M_59.loc[:, (csv_M_59 != 0.0).any(axis=0)]\n",
    "csv_M_60 = csv_M_60.loc[:, (csv_M_60 != 0.0).any(axis=0)]\n"
   ]
  },
  {
   "cell_type": "markdown",
   "metadata": {},
   "source": [
    "je clean les csv 1 par 1"
   ]
  },
  {
   "cell_type": "code",
   "execution_count": 6,
   "metadata": {},
   "outputs": [],
   "source": [
    "csv_M_30=csv_M_30.drop([18])"
   ]
  },
  {
   "cell_type": "code",
   "execution_count": 7,
   "metadata": {},
   "outputs": [],
   "source": [
    "csv_M_30=csv_M_30.drop(['C45BBE37B346'],axis=1)\n"
   ]
  },
  {
   "cell_type": "code",
   "execution_count": 8,
   "metadata": {},
   "outputs": [
    {
     "data": {
      "text/html": [
       "<div>\n",
       "<style scoped>\n",
       "    .dataframe tbody tr th:only-of-type {\n",
       "        vertical-align: middle;\n",
       "    }\n",
       "\n",
       "    .dataframe tbody tr th {\n",
       "        vertical-align: top;\n",
       "    }\n",
       "\n",
       "    .dataframe thead th {\n",
       "        text-align: right;\n",
       "    }\n",
       "</style>\n",
       "<table border=\"1\" class=\"dataframe\">\n",
       "  <thead>\n",
       "    <tr style=\"text-align: right;\">\n",
       "      <th></th>\n",
       "      <th>A8032A31204E</th>\n",
       "    </tr>\n",
       "  </thead>\n",
       "  <tbody>\n",
       "    <tr>\n",
       "      <th>0</th>\n",
       "      <td>-70.0</td>\n",
       "    </tr>\n",
       "    <tr>\n",
       "      <th>1</th>\n",
       "      <td>-66.0</td>\n",
       "    </tr>\n",
       "    <tr>\n",
       "      <th>2</th>\n",
       "      <td>-65.0</td>\n",
       "    </tr>\n",
       "    <tr>\n",
       "      <th>3</th>\n",
       "      <td>-51.0</td>\n",
       "    </tr>\n",
       "    <tr>\n",
       "      <th>4</th>\n",
       "      <td>-49.0</td>\n",
       "    </tr>\n",
       "    <tr>\n",
       "      <th>5</th>\n",
       "      <td>-55.0</td>\n",
       "    </tr>\n",
       "    <tr>\n",
       "      <th>6</th>\n",
       "      <td>-55.0</td>\n",
       "    </tr>\n",
       "    <tr>\n",
       "      <th>7</th>\n",
       "      <td>-61.0</td>\n",
       "    </tr>\n",
       "    <tr>\n",
       "      <th>8</th>\n",
       "      <td>-54.0</td>\n",
       "    </tr>\n",
       "    <tr>\n",
       "      <th>9</th>\n",
       "      <td>-56.0</td>\n",
       "    </tr>\n",
       "    <tr>\n",
       "      <th>10</th>\n",
       "      <td>-72.0</td>\n",
       "    </tr>\n",
       "    <tr>\n",
       "      <th>11</th>\n",
       "      <td>-80.0</td>\n",
       "    </tr>\n",
       "    <tr>\n",
       "      <th>12</th>\n",
       "      <td>-71.0</td>\n",
       "    </tr>\n",
       "    <tr>\n",
       "      <th>13</th>\n",
       "      <td>-71.0</td>\n",
       "    </tr>\n",
       "    <tr>\n",
       "      <th>14</th>\n",
       "      <td>-72.0</td>\n",
       "    </tr>\n",
       "    <tr>\n",
       "      <th>15</th>\n",
       "      <td>-54.0</td>\n",
       "    </tr>\n",
       "    <tr>\n",
       "      <th>16</th>\n",
       "      <td>-68.0</td>\n",
       "    </tr>\n",
       "    <tr>\n",
       "      <th>17</th>\n",
       "      <td>-61.0</td>\n",
       "    </tr>\n",
       "  </tbody>\n",
       "</table>\n",
       "</div>"
      ],
      "text/plain": [
       "    A8032A31204E\n",
       "0          -70.0\n",
       "1          -66.0\n",
       "2          -65.0\n",
       "3          -51.0\n",
       "4          -49.0\n",
       "5          -55.0\n",
       "6          -55.0\n",
       "7          -61.0\n",
       "8          -54.0\n",
       "9          -56.0\n",
       "10         -72.0\n",
       "11         -80.0\n",
       "12         -71.0\n",
       "13         -71.0\n",
       "14         -72.0\n",
       "15         -54.0\n",
       "16         -68.0\n",
       "17         -61.0"
      ]
     },
     "execution_count": 8,
     "metadata": {},
     "output_type": "execute_result"
    }
   ],
   "source": [
    "csv_M_30"
   ]
  },
  {
   "cell_type": "code",
   "execution_count": 11,
   "metadata": {},
   "outputs": [],
   "source": [
    "csv_M_31=csv_M_31.drop(['C45BBE386952','C45BBE39F9AE'],axis=1)"
   ]
  },
  {
   "cell_type": "code",
   "execution_count": 9,
   "metadata": {},
   "outputs": [],
   "source": [
    "csv_M_31=csv_M_31.drop(['C45BBE39F42A','C45BBE37B346'],axis=1)"
   ]
  },
  {
   "cell_type": "code",
   "execution_count": 14,
   "metadata": {},
   "outputs": [],
   "source": [
    "csv_M_31=csv_M_31.loc[(csv_M_31!=0).any(axis=1)]"
   ]
  },
  {
   "cell_type": "code",
   "execution_count": 15,
   "metadata": {},
   "outputs": [
    {
     "data": {
      "text/html": [
       "<div>\n",
       "<style scoped>\n",
       "    .dataframe tbody tr th:only-of-type {\n",
       "        vertical-align: middle;\n",
       "    }\n",
       "\n",
       "    .dataframe tbody tr th {\n",
       "        vertical-align: top;\n",
       "    }\n",
       "\n",
       "    .dataframe thead th {\n",
       "        text-align: right;\n",
       "    }\n",
       "</style>\n",
       "<table border=\"1\" class=\"dataframe\">\n",
       "  <thead>\n",
       "    <tr style=\"text-align: right;\">\n",
       "      <th></th>\n",
       "      <th>A8032A31204E</th>\n",
       "    </tr>\n",
       "  </thead>\n",
       "  <tbody>\n",
       "    <tr>\n",
       "      <th>37</th>\n",
       "      <td>-70.0</td>\n",
       "    </tr>\n",
       "    <tr>\n",
       "      <th>38</th>\n",
       "      <td>-72.0</td>\n",
       "    </tr>\n",
       "    <tr>\n",
       "      <th>39</th>\n",
       "      <td>-70.0</td>\n",
       "    </tr>\n",
       "    <tr>\n",
       "      <th>40</th>\n",
       "      <td>-67.0</td>\n",
       "    </tr>\n",
       "    <tr>\n",
       "      <th>41</th>\n",
       "      <td>-67.0</td>\n",
       "    </tr>\n",
       "    <tr>\n",
       "      <th>42</th>\n",
       "      <td>-69.0</td>\n",
       "    </tr>\n",
       "    <tr>\n",
       "      <th>43</th>\n",
       "      <td>-65.0</td>\n",
       "    </tr>\n",
       "    <tr>\n",
       "      <th>44</th>\n",
       "      <td>-70.0</td>\n",
       "    </tr>\n",
       "    <tr>\n",
       "      <th>45</th>\n",
       "      <td>-49.0</td>\n",
       "    </tr>\n",
       "    <tr>\n",
       "      <th>46</th>\n",
       "      <td>-50.0</td>\n",
       "    </tr>\n",
       "    <tr>\n",
       "      <th>47</th>\n",
       "      <td>-56.0</td>\n",
       "    </tr>\n",
       "    <tr>\n",
       "      <th>48</th>\n",
       "      <td>-52.0</td>\n",
       "    </tr>\n",
       "    <tr>\n",
       "      <th>49</th>\n",
       "      <td>-60.0</td>\n",
       "    </tr>\n",
       "    <tr>\n",
       "      <th>50</th>\n",
       "      <td>-64.0</td>\n",
       "    </tr>\n",
       "    <tr>\n",
       "      <th>51</th>\n",
       "      <td>-68.0</td>\n",
       "    </tr>\n",
       "    <tr>\n",
       "      <th>52</th>\n",
       "      <td>-61.0</td>\n",
       "    </tr>\n",
       "    <tr>\n",
       "      <th>53</th>\n",
       "      <td>-68.0</td>\n",
       "    </tr>\n",
       "    <tr>\n",
       "      <th>54</th>\n",
       "      <td>-79.0</td>\n",
       "    </tr>\n",
       "    <tr>\n",
       "      <th>55</th>\n",
       "      <td>-65.0</td>\n",
       "    </tr>\n",
       "    <tr>\n",
       "      <th>56</th>\n",
       "      <td>-63.0</td>\n",
       "    </tr>\n",
       "    <tr>\n",
       "      <th>57</th>\n",
       "      <td>-69.0</td>\n",
       "    </tr>\n",
       "    <tr>\n",
       "      <th>58</th>\n",
       "      <td>-79.0</td>\n",
       "    </tr>\n",
       "    <tr>\n",
       "      <th>59</th>\n",
       "      <td>-69.0</td>\n",
       "    </tr>\n",
       "    <tr>\n",
       "      <th>60</th>\n",
       "      <td>-58.0</td>\n",
       "    </tr>\n",
       "    <tr>\n",
       "      <th>61</th>\n",
       "      <td>-52.0</td>\n",
       "    </tr>\n",
       "    <tr>\n",
       "      <th>62</th>\n",
       "      <td>-57.0</td>\n",
       "    </tr>\n",
       "    <tr>\n",
       "      <th>63</th>\n",
       "      <td>-74.0</td>\n",
       "    </tr>\n",
       "    <tr>\n",
       "      <th>64</th>\n",
       "      <td>-64.0</td>\n",
       "    </tr>\n",
       "    <tr>\n",
       "      <th>65</th>\n",
       "      <td>-62.0</td>\n",
       "    </tr>\n",
       "    <tr>\n",
       "      <th>66</th>\n",
       "      <td>-65.0</td>\n",
       "    </tr>\n",
       "  </tbody>\n",
       "</table>\n",
       "</div>"
      ],
      "text/plain": [
       "    A8032A31204E\n",
       "37         -70.0\n",
       "38         -72.0\n",
       "39         -70.0\n",
       "40         -67.0\n",
       "41         -67.0\n",
       "42         -69.0\n",
       "43         -65.0\n",
       "44         -70.0\n",
       "45         -49.0\n",
       "46         -50.0\n",
       "47         -56.0\n",
       "48         -52.0\n",
       "49         -60.0\n",
       "50         -64.0\n",
       "51         -68.0\n",
       "52         -61.0\n",
       "53         -68.0\n",
       "54         -79.0\n",
       "55         -65.0\n",
       "56         -63.0\n",
       "57         -69.0\n",
       "58         -79.0\n",
       "59         -69.0\n",
       "60         -58.0\n",
       "61         -52.0\n",
       "62         -57.0\n",
       "63         -74.0\n",
       "64         -64.0\n",
       "65         -62.0\n",
       "66         -65.0"
      ]
     },
     "execution_count": 15,
     "metadata": {},
     "output_type": "execute_result"
    }
   ],
   "source": [
    "csv_M_31"
   ]
  },
  {
   "cell_type": "code",
   "execution_count": 18,
   "metadata": {},
   "outputs": [],
   "source": [
    "csv_M_33=csv_M_33.drop(['C45BBE39F42A'],axis=1)"
   ]
  },
  {
   "cell_type": "code",
   "execution_count": 20,
   "metadata": {},
   "outputs": [],
   "source": [
    "csv_M_33=csv_M_33.loc[(csv_M_33!=0).any(axis=1)]"
   ]
  },
  {
   "cell_type": "code",
   "execution_count": 23,
   "metadata": {},
   "outputs": [],
   "source": [
    "csv_M_34=csv_M_34.drop(['C45BBE386952','C45BBE39F56A','C45BBE37B346'],axis=1)"
   ]
  },
  {
   "cell_type": "code",
   "execution_count": 24,
   "metadata": {},
   "outputs": [],
   "source": [
    "csv_M_34=csv_M_34.loc[(csv_M_34!=0).any(axis=1)]"
   ]
  },
  {
   "cell_type": "code",
   "execution_count": 28,
   "metadata": {},
   "outputs": [],
   "source": [
    "csv_M_36=csv_M_36.drop(['C45BBE37B346'],axis=1)"
   ]
  },
  {
   "cell_type": "code",
   "execution_count": 31,
   "metadata": {},
   "outputs": [],
   "source": [
    "csv_M_36=csv_M_36.drop([13])"
   ]
  },
  {
   "cell_type": "code",
   "execution_count": 36,
   "metadata": {},
   "outputs": [],
   "source": [
    "csv_M_37=csv_M_37.drop(['C45BBE39F42A'],axis=1)"
   ]
  },
  {
   "cell_type": "code",
   "execution_count": 38,
   "metadata": {},
   "outputs": [],
   "source": [
    "csv_M_37=csv_M_37.loc[(csv_M_37!=0).any(axis=1)]"
   ]
  },
  {
   "cell_type": "code",
   "execution_count": 41,
   "metadata": {},
   "outputs": [],
   "source": [
    "csv_M_38=csv_M_38.drop(['C45BBE386952','A8032A31204E','C45BBE37B346'],axis=1)"
   ]
  },
  {
   "cell_type": "code",
   "execution_count": 43,
   "metadata": {},
   "outputs": [],
   "source": [
    "csv_M_38=csv_M_38.loc[(csv_M_38!=0).any(axis=1)]"
   ]
  },
  {
   "cell_type": "code",
   "execution_count": 47,
   "metadata": {},
   "outputs": [],
   "source": [
    "csv_M_40=csv_M_40.drop(['A8032A31204E'],axis=1)"
   ]
  },
  {
   "cell_type": "code",
   "execution_count": 50,
   "metadata": {},
   "outputs": [],
   "source": [
    "csv_M_40=csv_M_40.drop([12])"
   ]
  },
  {
   "cell_type": "code",
   "execution_count": 54,
   "metadata": {},
   "outputs": [],
   "source": [
    "csv_M_43=csv_M_43.drop(['C45BBE39F42A'],axis=1)"
   ]
  },
  {
   "cell_type": "code",
   "execution_count": 56,
   "metadata": {},
   "outputs": [],
   "source": [
    "csv_M_43=csv_M_43.loc[(csv_M_43!=0).any(axis=1)]"
   ]
  },
  {
   "cell_type": "code",
   "execution_count": 62,
   "metadata": {},
   "outputs": [],
   "source": [
    "csv_M_46=csv_M_46.drop(['C45BBE39F42A','C45BBE386952'],axis=1)"
   ]
  },
  {
   "cell_type": "code",
   "execution_count": 64,
   "metadata": {},
   "outputs": [],
   "source": [
    "csv_M_46=csv_M_46.drop(['A8032A31204E','C45BBE39F9AE'],axis=1)"
   ]
  },
  {
   "cell_type": "code",
   "execution_count": 67,
   "metadata": {},
   "outputs": [],
   "source": [
    "csv_M_46=csv_M_46.loc[(csv_M_46!=0).any(axis=1)]"
   ]
  },
  {
   "cell_type": "code",
   "execution_count": 70,
   "metadata": {},
   "outputs": [],
   "source": [
    "#PB sur le 40, 47m, 48m, 50, 51,56,57, psq le capteur qui le capte est le 13m"
   ]
  },
  {
   "cell_type": "code",
   "execution_count": 73,
   "metadata": {},
   "outputs": [],
   "source": [
    "csv_M_49=csv_M_49.drop(['C45BBE39F56A'],axis=1)"
   ]
  },
  {
   "cell_type": "code",
   "execution_count": 74,
   "metadata": {},
   "outputs": [],
   "source": [
    "csv_M_49=csv_M_49.loc[(csv_M_49!=0).any(axis=1)]"
   ]
  },
  {
   "cell_type": "code",
   "execution_count": 79,
   "metadata": {},
   "outputs": [],
   "source": [
    "csv_M_52=csv_M_52.drop(['C45BBE37B346','C45BBE386952'],axis=1)"
   ]
  },
  {
   "cell_type": "code",
   "execution_count": 81,
   "metadata": {},
   "outputs": [],
   "source": [
    "csv_M_52=csv_M_52.loc[(csv_M_52!=0).any(axis=1)]"
   ]
  },
  {
   "cell_type": "code",
   "execution_count": 90,
   "metadata": {},
   "outputs": [],
   "source": [
    "csv_M_53=csv_M_53.drop(['C45BBE37B346'],axis=1)"
   ]
  },
  {
   "cell_type": "code",
   "execution_count": 92,
   "metadata": {},
   "outputs": [],
   "source": [
    "csv_M_53=csv_M_53.loc[(csv_M_53!=0).any(axis=1)]"
   ]
  },
  {
   "cell_type": "code",
   "execution_count": 95,
   "metadata": {},
   "outputs": [],
   "source": [
    "csv_M_54=csv_M_54.drop(['C45BBE37B346','C45BBE386952','C45BBE39F42A','C45BBE37B346'],axis=1)"
   ]
  },
  {
   "cell_type": "code",
   "execution_count": 99,
   "metadata": {},
   "outputs": [],
   "source": [
    "csv_M_54=csv_M_54.loc[(csv_M_54!=0).any(axis=1)]"
   ]
  },
  {
   "cell_type": "code",
   "execution_count": 102,
   "metadata": {},
   "outputs": [],
   "source": [
    "csv_M_55=csv_M_55.drop(['C45BBE37B346','C45BBE386952'],axis=1)"
   ]
  },
  {
   "cell_type": "code",
   "execution_count": 104,
   "metadata": {},
   "outputs": [],
   "source": [
    "csv_M_55=csv_M_55.loc[(csv_M_55!=0).any(axis=1)]"
   ]
  },
  {
   "cell_type": "code",
   "execution_count": 109,
   "metadata": {},
   "outputs": [],
   "source": [
    "csv_M_58=csv_M_58.drop(['C45BBE37B346','C45BBE386952'],axis=1)"
   ]
  },
  {
   "cell_type": "code",
   "execution_count": 110,
   "metadata": {},
   "outputs": [],
   "source": [
    "csv_M_58=csv_M_58.loc[(csv_M_58!=0).any(axis=1)]"
   ]
  },
  {
   "cell_type": "code",
   "execution_count": 113,
   "metadata": {},
   "outputs": [],
   "source": [
    "csv_M_59=csv_M_59.drop(['C45BBE37B346','C45BBE386952','A8032A31204E'],axis=1)"
   ]
  },
  {
   "cell_type": "code",
   "execution_count": 115,
   "metadata": {},
   "outputs": [],
   "source": [
    "csv_M_59=csv_M_59.loc[(csv_M_59!=0).any(axis=1)]"
   ]
  },
  {
   "cell_type": "code",
   "execution_count": 118,
   "metadata": {},
   "outputs": [],
   "source": [
    "csv_M_60=csv_M_60.drop(['C45BBE37B346','C45BBE386952'],axis=1)"
   ]
  },
  {
   "cell_type": "code",
   "execution_count": 120,
   "metadata": {},
   "outputs": [],
   "source": [
    "csv_M_60=csv_M_60.loc[(csv_M_60!=0).any(axis=1)]"
   ]
  },
  {
   "cell_type": "code",
   "execution_count": 161,
   "metadata": {},
   "outputs": [],
   "source": [
    "#On calcule les moyennes des RSSI\n",
    "mean_30=csv_M_30.mean()\n",
    "mean_31=csv_M_31.mean()\n",
    "mean_32=csv_M_32.mean()\n",
    "mean_33=csv_M_33.mean()\n",
    "mean_34=csv_M_34.mean()\n",
    "mean_35=csv_M_35.mean()\n",
    "mean_36=csv_M_36.mean()\n",
    "mean_37=csv_M_37.mean()\n",
    "mean_38=csv_M_38.mean()\n",
    "mean_39=csv_M_39.mean()\n",
    "\n",
    "mean_41=csv_M_41.mean()\n",
    "mean_42=csv_M_42.mean()\n",
    "mean_43=csv_M_43.mean()\n",
    "mean_44=csv_M_44.mean()\n",
    "mean_45=csv_M_45.mean()\n",
    "mean_46=csv_M_46.mean()\n",
    "\n",
    "mean_49=csv_M_49.mean()\n",
    "\n",
    "mean_52=csv_M_52.mean()\n",
    "mean_53=csv_M_53.mean()\n",
    "mean_54=csv_M_54.mean()\n",
    "mean_55=csv_M_55.mean()\n",
    "\n",
    "mean_58=csv_M_58.mean()\n",
    "mean_59=csv_M_59.mean()\n",
    "mean_60=csv_M_50.mean()"
   ]
  },
  {
   "cell_type": "markdown",
   "metadata": {},
   "source": [
    "On crée une liste avec le RSSI et la distance entre la position et le capteur"
   ]
  },
  {
   "cell_type": "code",
   "execution_count": 147,
   "metadata": {},
   "outputs": [],
   "source": [
    "m_30=[mean_30,1]"
   ]
  },
  {
   "cell_type": "code",
   "execution_count": 148,
   "metadata": {},
   "outputs": [],
   "source": [
    "m_31=[mean_31,2]"
   ]
  },
  {
   "cell_type": "code",
   "execution_count": 149,
   "metadata": {},
   "outputs": [],
   "source": [
    "m_32=[mean_32,3]"
   ]
  },
  {
   "cell_type": "code",
   "execution_count": 150,
   "metadata": {},
   "outputs": [],
   "source": [
    "m_33=[mean_33,4]"
   ]
  },
  {
   "cell_type": "code",
   "execution_count": 151,
   "metadata": {},
   "outputs": [],
   "source": [
    "m_34=[mean_34,5]"
   ]
  },
  {
   "cell_type": "code",
   "execution_count": 152,
   "metadata": {},
   "outputs": [],
   "source": [
    "m_35=[mean_35,6]"
   ]
  },
  {
   "cell_type": "code",
   "execution_count": 153,
   "metadata": {},
   "outputs": [],
   "source": [
    "m_36=[mean_36,7]"
   ]
  },
  {
   "cell_type": "code",
   "execution_count": 154,
   "metadata": {},
   "outputs": [],
   "source": [
    "m_37=[mean_37,8]"
   ]
  },
  {
   "cell_type": "code",
   "execution_count": 155,
   "metadata": {},
   "outputs": [],
   "source": [
    "m_38=[mean_38,18]"
   ]
  },
  {
   "cell_type": "code",
   "execution_count": 158,
   "metadata": {},
   "outputs": [],
   "source": [
    "m_39=[mean_39,10]"
   ]
  },
  {
   "cell_type": "code",
   "execution_count": 160,
   "metadata": {},
   "outputs": [
    {
     "data": {
      "text/plain": [
       "C45BBE39F9AE   -70.333333\n",
       "dtype: float64"
      ]
     },
     "execution_count": 160,
     "metadata": {},
     "output_type": "execute_result"
    }
   ],
   "source": []
  }
 ],
 "metadata": {
  "kernelspec": {
   "display_name": "Python 3.10.5 64-bit",
   "language": "python",
   "name": "python3"
  },
  "language_info": {
   "codemirror_mode": {
    "name": "ipython",
    "version": 3
   },
   "file_extension": ".py",
   "mimetype": "text/x-python",
   "name": "python",
   "nbconvert_exporter": "python",
   "pygments_lexer": "ipython3",
   "version": "3.10.5"
  },
  "orig_nbformat": 4,
  "vscode": {
   "interpreter": {
    "hash": "aee8b7b246df8f9039afb4144a1f6fd8d2ca17a180786b69acc140d282b71a49"
   }
  }
 },
 "nbformat": 4,
 "nbformat_minor": 2
}
