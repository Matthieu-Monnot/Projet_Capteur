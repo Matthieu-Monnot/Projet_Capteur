{
 "cells": [
  {
   "cell_type": "code",
   "execution_count": 37,
   "metadata": {},
   "outputs": [],
   "source": [
    "import requests\n",
    "import pandas as pd\n",
    "import matplotlib.pyplot as plt"
   ]
  },
  {
   "cell_type": "code",
   "execution_count": 3,
   "metadata": {},
   "outputs": [],
   "source": [
    "Capt1=pd.read_csv('../Data_capteurs/csv_A8032A31204E.csv')\n",
    "Capt2=pd.read_csv('../Data_capteurs/csv_AB032A311FAA.csv')\n",
    "Capt3=pd.read_csv('../Data_capteurs/csv_C45BBE37B346.csv')\n",
    "Capt4=pd.read_csv('../Data_capteurs/csv_C45BBE39F9AE.csv')\n",
    "Capt5=pd.read_csv('../Data_capteurs/csv_C45BBE39F42A.csv')\n",
    "Capt6=pd.read_csv('../Data_capteurs/csv_C45BBE39F56A.csv')\n",
    "Capt7=pd.read_csv('../Data_capteurs/csv_C45BBE384CD2.csv')\n",
    "Capt8=pd.read_csv('../Data_capteurs/csv_C45BBE39870E.csv')\n",
    "Capt9=pd.read_csv('../Data_capteurs/csv_C45BBE386362.csv')\n",
    "Capt10=pd.read_csv('../Data_capteurs/csv_C45BBE386952.csv')\n",
    "\n",
    "List_Capt=[Capt1,Capt2,Capt3,Capt4,Capt5,Capt6,Capt7,Capt8,Capt9,Capt10]\n",
    "#liste_df <- split(df, df$ID)"
   ]
  },
  {
   "cell_type": "code",
   "execution_count": 42,
   "metadata": {},
   "outputs": [],
   "source": [
    "list_capteurs = ['C45BBE384CD2', 'C45BBE386362', 'C45BBE386952', 'C45BBE39870E', 'C45BBE39F42A', 'C45BBE39F56A', 'C45BBE39F9AE', 'AB032A311FAA', 'A8032A31204E', 'C45BBE37B346', 'A8032A311FAA', 'C45BBE39F4D6']\n",
    "list_capteurs_dist = {'C45BBE384CD2' : 0, 'C45BBE386362' : 80, 'C45BBE386952' : 65, 'C45BBE39870E' : 0, 'C45BBE39F42A' : 0, 'C45BBE39F56A' : 56, 'C45BBE39F9AE' : 13, 'AB032A311FAA' : 4, 'A8032A31204E' : 29, 'C45BBE37B346' : 52}"
   ]
  },
  {
   "cell_type": "code",
   "execution_count": 4,
   "metadata": {},
   "outputs": [],
   "source": [
    "def list_duplicates(seq):\n",
    "  seen = set()\n",
    "  seen_add = seen.add\n",
    "  seen_twice = set( x for x in seq if x in seen or seen_add(x) )\n",
    "  return list( seen_twice )"
   ]
  },
  {
   "cell_type": "code",
   "execution_count": 29,
   "metadata": {},
   "outputs": [],
   "source": [
    "# comparaison du rssi trouvé par capteur par rapport à l'ensemble\n",
    "differents_rssi=[]\n",
    "\n",
    "def position3(differents_rssi, nb_capt):\n",
    "    L=[[]*10]\n",
    "    for i in range(len(List_Capt)):\n",
    "        for col in List_Capt[i].columns:\n",
    "            df2=pd.DataFrame(List_Capt[i][col])\n",
    "            for index, row in df2.iterrows():\n",
    "                if row[0] == differents_rssi[i]:\n",
    "                    L[i].append(int(col))\n",
    "    Bool = True\n",
    "    while Bool:\n",
    "        intersection = L[0]\n",
    "        for i in range(1, len(L)):\n",
    "            set1 = set(L[i])\n",
    "            set2 = set(intersection)\n",
    "            intersection = list(set1 & set2)\n",
    "        if intersection != []:\n",
    "            Bool = False\n",
    "            return sum(intersection)/len(intersection)\n",
    "        else:\n",
    "            position3(differents_rssi, nb_capt-1)\n",
    "\n",
    "    # if list_duplicates(L)!=[]:\n",
    "    #     return sum(list_duplicates(L)) / len(list_duplicates(L))\n",
    "    # elif L!=[]:\n",
    "    #     return sum(L)/len(L)\n",
    "    # else:\n",
    "    #     return 0"
   ]
  },
  {
   "cell_type": "code",
   "execution_count": 30,
   "metadata": {},
   "outputs": [
    {
     "data": {
      "text/plain": [
       "50.0"
      ]
     },
     "execution_count": 30,
     "metadata": {},
     "output_type": "execute_result"
    }
   ],
   "source": [
    "position3([0, 0, 0, -60, 0, 0, 0, -60, -70, -50])"
   ]
  },
  {
   "cell_type": "code",
   "execution_count": 31,
   "metadata": {},
   "outputs": [
    {
     "data": {
      "text/html": [
       "<div>\n",
       "<style scoped>\n",
       "    .dataframe tbody tr th:only-of-type {\n",
       "        vertical-align: middle;\n",
       "    }\n",
       "\n",
       "    .dataframe tbody tr th {\n",
       "        vertical-align: top;\n",
       "    }\n",
       "\n",
       "    .dataframe thead th {\n",
       "        text-align: right;\n",
       "    }\n",
       "</style>\n",
       "<table border=\"1\" class=\"dataframe\">\n",
       "  <thead>\n",
       "    <tr style=\"text-align: right;\">\n",
       "      <th></th>\n",
       "      <th>rssi</th>\n",
       "    </tr>\n",
       "    <tr>\n",
       "      <th>macModule</th>\n",
       "      <th></th>\n",
       "    </tr>\n",
       "  </thead>\n",
       "  <tbody>\n",
       "    <tr>\n",
       "      <th>A8032A31204E</th>\n",
       "      <td>-62.833333</td>\n",
       "    </tr>\n",
       "    <tr>\n",
       "      <th>C45BBE37B346</th>\n",
       "      <td>-80.000000</td>\n",
       "    </tr>\n",
       "  </tbody>\n",
       "</table>\n",
       "</div>"
      ],
      "text/plain": [
       "                   rssi\n",
       "macModule              \n",
       "A8032A31204E -62.833333\n",
       "C45BBE37B346 -80.000000"
      ]
     },
     "execution_count": 31,
     "metadata": {},
     "output_type": "execute_result"
    }
   ],
   "source": [
    "df = pd.read_csv('../tableau_brute.csv')\n",
    "df2 = df.loc[df['metre'] == 30]\n",
    "df3 = df2.groupby('macModule')['rssi'].mean()\n",
    "df4 = pd.DataFrame(df3)\n",
    "df4"
   ]
  },
  {
   "cell_type": "code",
   "execution_count": 61,
   "metadata": {},
   "outputs": [],
   "source": [
    "# estimation pour chaque mètre\n",
    "\n",
    "def generer_rssi(m):\n",
    "    L=[0]*12\n",
    "    df = pd.read_csv('../tableau_brute.csv')\n",
    "    df2 = df.loc[df['metre'] == m]\n",
    "    df3 = pd.DataFrame(df2.groupby('macModule')['rssi'].max())\n",
    "    for capt in df3.index:\n",
    "        i = list_capteurs.index(capt)\n",
    "        L[i] = df3['rssi'][capt]\n",
    "    return L"
   ]
  },
  {
   "cell_type": "code",
   "execution_count": 62,
   "metadata": {},
   "outputs": [
    {
     "data": {
      "text/plain": [
       "[0, 0, 0, 0, 0, 0, 0, 0, -49, -80, 0, 0]"
      ]
     },
     "execution_count": 62,
     "metadata": {},
     "output_type": "execute_result"
    }
   ],
   "source": [
    "generer_rssi(30)"
   ]
  },
  {
   "cell_type": "code",
   "execution_count": 63,
   "metadata": {},
   "outputs": [],
   "source": [
    "X=[]\n",
    "for i in range(30, 61):\n",
    "    X.append(position3(generer_rssi(i)))"
   ]
  },
  {
   "cell_type": "code",
   "execution_count": 65,
   "metadata": {},
   "outputs": [],
   "source": [
    "x = X\n",
    "for i, val in enumerate(x):\n",
    "    if val == 0:\n",
    "        x[i] = i+30"
   ]
  },
  {
   "cell_type": "code",
   "execution_count": 67,
   "metadata": {},
   "outputs": [
    {
     "data": {
      "text/plain": [
       "[<matplotlib.lines.Line2D at 0x19321112490>]"
      ]
     },
     "execution_count": 67,
     "metadata": {},
     "output_type": "execute_result"
    },
    {
     "data": {
      "image/png": "[encoded data removed]",
      "text/plain": [
       "<Figure size 640x480 with 1 Axes>"
      ]
     },
     "metadata": {},
     "output_type": "display_data"
    }
   ],
   "source": [
    "plt.plot(x, '.')\n",
    "plt.plot([i for i in range(30, 61)])"
   ]
  },
  {
   "cell_type": "code",
   "execution_count": null,
   "metadata": {},
   "outputs": [],
   "source": []
  }
 ],
 "metadata": {
  "kernelspec": {
   "display_name": "Python 3.9.13 64-bit (microsoft store)",
   "language": "python",
   "name": "python3"
  },
  "language_info": {
   "codemirror_mode": {
    "name": "ipython",
    "version": 3
   },
   "file_extension": ".py",
   "mimetype": "text/x-python",
   "name": "python",
   "nbconvert_exporter": "python",
   "pygments_lexer": "ipython3",
   "version": "3.9.13"
  },
  "orig_nbformat": 4,
  "vscode": {
   "interpreter": {
    "hash": "80079d8dd9f7c252f0ff3be33272006cb63eba2cb77317ddc2afd11fdc1d0064"
   }
  }
 },
 "nbformat": 4,
 "nbformat_minor": 2
}
