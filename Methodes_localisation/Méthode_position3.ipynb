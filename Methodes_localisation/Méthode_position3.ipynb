{
 "cells": [
  {
   "cell_type": "code",
   "execution_count": 1,
   "metadata": {},
   "outputs": [],
   "source": [
    "import requests\n",
    "import pandas as pd\n",
    "import matplotlib.pyplot as plt"
   ]
  },
  {
   "cell_type": "code",
   "execution_count": 16,
   "metadata": {},
   "outputs": [],
   "source": [
    "Capt1=pd.read_csv('../Selected/A8032A31204E.csv')\n",
    "Capt2=pd.read_csv('../Selected/A8032A311FAA.csv')\n",
    "Capt3=pd.read_csv('../Selected/C45BBE37B346.csv')\n",
    "Capt4=pd.read_csv('../Selected/C45BBE39F9AE.csv')\n",
    "Capt6=pd.read_csv('../Selected/C45BBE39F56A.csv')\n",
    "Capt7=pd.read_csv('../Selected/C45BBE384CD2.csv')\n",
    "Capt9=pd.read_csv('../Selected/C45BBE386362.csv')\n",
    "Capt10=pd.read_csv('../Selected/C45BBE386952.csv')\n",
    "\n",
    "List_Capt=[Capt1,Capt2,Capt3,Capt4,Capt6,Capt7,Capt9,Capt10]\n",
    "#liste_df <- split(df, df$ID)"
   ]
  },
  {
   "cell_type": "code",
   "execution_count": 17,
   "metadata": {},
   "outputs": [],
   "source": [
    "list_capteurs = ['C45BBE384CD2', 'C45BBE386362', 'C45BBE386952', 'C45BBE39F56A', 'C45BBE39F9AE', 'A8032A31204E', 'C45BBE37B346', 'A8032A311FAA']\n",
    "list_capteurs_dist = {'C45BBE384CD2' : 75, 'C45BBE386362' : 80, 'C45BBE386952' : 65, 'C45BBE39F56A' : 56, 'C45BBE39F9AE' : 13, 'A8032A31204E' : 29, 'C45BBE37B346' : 52, 'A8032A311FAA' : 0}"
   ]
  },
  {
   "cell_type": "code",
   "execution_count": 18,
   "metadata": {},
   "outputs": [],
   "source": [
    "def list_duplicates(seq):\n",
    "  seen = set()\n",
    "  seen_add = seen.add\n",
    "  seen_twice = set(x for x in seq if x in seen or seen_add(x))\n",
    "  return list(seen_twice)"
   ]
  },
  {
   "cell_type": "code",
   "execution_count": 36,
   "metadata": {},
   "outputs": [],
   "source": [
    "# comparaison du rssi trouvé par capteur par rapport à l'ensemble\n",
    "\n",
    "def position3(differents_rssi, nb_capt):\n",
    "    L=[[]]*8\n",
    "    for i, capt in enumerate(list_capteurs):\n",
    "        df = pd.read_csv('../Selected/'+capt+'.csv')\n",
    "        for col in df.columns:\n",
    "            df2=pd.DataFrame(df[col])\n",
    "            for index, row in df2.iterrows():\n",
    "                if row[0] == differents_rssi[capt]:\n",
    "                    L[i].append(int(col))\n",
    "    if nb_capt == 1:\n",
    "        liste = max((x) for x in L)\n",
    "        if liste == []:\n",
    "            return 0\n",
    "        return sum(liste)/len(liste)\n",
    "    Bool = True\n",
    "    while Bool:\n",
    "        intersection = L[0]\n",
    "        for i in range(1, len(L)):\n",
    "            set1 = set(L[i])\n",
    "            set2 = set(intersection)\n",
    "            intersection = list(set1 & set2)\n",
    "        if intersection != []:\n",
    "            Bool = False\n",
    "            return sum(intersection)/len(intersection)\n",
    "        else:\n",
    "            return position3(differents_rssi, nb_capt-1)\n",
    "\n",
    "    # if list_duplicates(L)!=[]:\n",
    "    #     return sum(list_duplicates(L)) / len(list_duplicates(L))\n",
    "    # elif L!=[]:\n",
    "    #     return sum(L)/len(L)\n",
    "    # else:\n",
    "    #     return 0"
   ]
  },
  {
   "cell_type": "code",
   "execution_count": 37,
   "metadata": {},
   "outputs": [
    {
     "data": {
      "text/plain": [
       "73.88"
      ]
     },
     "execution_count": 37,
     "metadata": {},
     "output_type": "execute_result"
    }
   ],
   "source": [
    "position3({'C45BBE384CD2' : -75, 'C45BBE386362' : -80, 'C45BBE386952' : -65, 'C45BBE39F56A' : 0, 'C45BBE39F9AE' : 0, 'A8032A31204E' : 0, 'C45BBE37B346' : 0, 'A8032A311FAA' : 0}, 2)"
   ]
  },
  {
   "cell_type": "code",
   "execution_count": 7,
   "metadata": {},
   "outputs": [
    {
     "data": {
      "text/html": [
       "<div>\n",
       "<style scoped>\n",
       "    .dataframe tbody tr th:only-of-type {\n",
       "        vertical-align: middle;\n",
       "    }\n",
       "\n",
       "    .dataframe tbody tr th {\n",
       "        vertical-align: top;\n",
       "    }\n",
       "\n",
       "    .dataframe thead th {\n",
       "        text-align: right;\n",
       "    }\n",
       "</style>\n",
       "<table border=\"1\" class=\"dataframe\">\n",
       "  <thead>\n",
       "    <tr style=\"text-align: right;\">\n",
       "      <th></th>\n",
       "      <th>rssi</th>\n",
       "    </tr>\n",
       "    <tr>\n",
       "      <th>macModule</th>\n",
       "      <th></th>\n",
       "    </tr>\n",
       "  </thead>\n",
       "  <tbody>\n",
       "    <tr>\n",
       "      <th>A8032A31204E</th>\n",
       "      <td>-62.833333</td>\n",
       "    </tr>\n",
       "    <tr>\n",
       "      <th>C45BBE37B346</th>\n",
       "      <td>-80.000000</td>\n",
       "    </tr>\n",
       "  </tbody>\n",
       "</table>\n",
       "</div>"
      ],
      "text/plain": [
       "                   rssi\n",
       "macModule              \n",
       "A8032A31204E -62.833333\n",
       "C45BBE37B346 -80.000000"
      ]
     },
     "execution_count": 7,
     "metadata": {},
     "output_type": "execute_result"
    }
   ],
   "source": [
    "df = pd.read_csv('../tableau_brute.csv')\n",
    "df2 = df.loc[df['metre'] == 30]\n",
    "df3 = df2.groupby('macModule')['rssi'].mean()\n",
    "df4 = pd.DataFrame(df3)\n",
    "df4"
   ]
  },
  {
   "cell_type": "code",
   "execution_count": 32,
   "metadata": {},
   "outputs": [],
   "source": [
    "# estimation pour chaque mètre\n",
    "\n",
    "def generer_rssi(m):\n",
    "    L = {'C45BBE384CD2' : 0, 'C45BBE386362' : 0, 'C45BBE386952' : 0, 'C45BBE39F56A' : 0, 'C45BBE39F9AE' : 0, 'A8032A31204E' : 0, 'C45BBE37B346' : 0, 'A8032A311FAA' : 0}\n",
    "    df = pd.read_csv('../tableau_brute.csv')\n",
    "    df2 = df.loc[df['metre'] == m]\n",
    "    df3 = pd.DataFrame(df2.groupby('macModule')['rssi'].max())\n",
    "    for capt in df3.index:\n",
    "        if capt not in list_capteurs:\n",
    "            continue\n",
    "        L[capt] = df3['rssi'][capt]\n",
    "    return L"
   ]
  },
  {
   "cell_type": "code",
   "execution_count": 34,
   "metadata": {},
   "outputs": [
    {
     "data": {
      "text/plain": [
       "{'C45BBE384CD2': 0,\n",
       " 'C45BBE386362': 0,\n",
       " 'C45BBE386952': -80,\n",
       " 'C45BBE39F56A': 0,\n",
       " 'C45BBE39F9AE': -72,\n",
       " 'A8032A31204E': -49,\n",
       " 'C45BBE37B346': -73,\n",
       " 'A8032A311FAA': 0}"
      ]
     },
     "execution_count": 34,
     "metadata": {},
     "output_type": "execute_result"
    }
   ],
   "source": [
    "generer_rssi(31)"
   ]
  },
  {
   "cell_type": "code",
   "execution_count": 41,
   "metadata": {},
   "outputs": [],
   "source": [
    "X=[]\n",
    "for i in range(91):\n",
    "    X.append(position3(generer_rssi(i), 1))"
   ]
  },
  {
   "cell_type": "code",
   "execution_count": 39,
   "metadata": {},
   "outputs": [],
   "source": [
    "x = X\n",
    "for i, val in enumerate(x):\n",
    "    if val == 0:\n",
    "        x[i] = i"
   ]
  },
  {
   "cell_type": "code",
   "execution_count": 42,
   "metadata": {},
   "outputs": [
    {
     "data": {
      "text/plain": [
       "[<matplotlib.lines.Line2D at 0x22db6c53520>]"
      ]
     },
     "execution_count": 42,
     "metadata": {},
     "output_type": "execute_result"
    },
    {
     "data": {
      "image/png": "[encoded data removed]",
      "text/plain": [
       "<Figure size 640x480 with 1 Axes>"
      ]
     },
     "metadata": {},
     "output_type": "display_data"
    }
   ],
   "source": [
    "plt.plot(X, '.')\n",
    "plt.plot([i for i in range(91)])"
   ]
  },
  {
   "cell_type": "code",
   "execution_count": null,
   "metadata": {},
   "outputs": [],
   "source": []
  }
 ],
 "metadata": {
  "kernelspec": {
   "display_name": "Python 3.9.13 64-bit (microsoft store)",
   "language": "python",
   "name": "python3"
  },
  "language_info": {
   "codemirror_mode": {
    "name": "ipython",
    "version": 3
   },
   "file_extension": ".py",
   "mimetype": "text/x-python",
   "name": "python",
   "nbconvert_exporter": "python",
   "pygments_lexer": "ipython3",
   "version": "3.9.13 (tags/v3.9.13:6de2ca5, May 17 2022, 16:36:42) [MSC v.1929 64 bit (AMD64)]"
  },
  "orig_nbformat": 4,
  "vscode": {
   "interpreter": {
    "hash": "80079d8dd9f7c252f0ff3be33272006cb63eba2cb77317ddc2afd11fdc1d0064"
   }
  }
 },
 "nbformat": 4,
 "nbformat_minor": 2
}
