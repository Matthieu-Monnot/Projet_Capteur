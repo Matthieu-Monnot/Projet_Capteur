{
 "cells": [
  {
   "cell_type": "code",
   "execution_count": 1,
   "metadata": {},
   "outputs": [],
   "source": [
    "import requests\n",
    "import pandas as pd\n",
    "import matplotlib.pyplot as plt"
   ]
  },
  {
   "cell_type": "code",
   "execution_count": 2,
   "metadata": {},
   "outputs": [],
   "source": [
    "list_capteurs = ['C45BBE384CD2', 'C45BBE386362', 'C45BBE386952', 'C45BBE39870E', 'C45BBE39F42A', 'C45BBE39F56A', 'C45BBE39F9AE', 'AB032A311FAA', 'A8032A31204E', 'C45BBE37B346']\n",
    "list_capteurs_dist = {'C45BBE384CD2' : 0, 'C45BBE386362' : 80, 'C45BBE386952' : 65, 'C45BBE39870E' : 0, 'C45BBE39F42A' : 0, 'C45BBE39F56A' : 56, 'C45BBE39F9AE' : 13, 'AB032A311FAA' : 4, 'A8032A31204E' : 29, 'C45BBE37B346' : 52}"
   ]
  },
  {
   "cell_type": "code",
   "execution_count": 3,
   "metadata": {},
   "outputs": [],
   "source": [
    "'''\n",
    "Dans cette fonction on prend en entrée une limite de rssi et la liste des capteurs avec \n",
    "leur position dans le couloir.\n",
    "On calcule pour chaque metre la moyenne des positions des capteurs qui captent entre le maximum\n",
    "de rssi enregistré et le max moins la limite.\n",
    "On retourne ensuite une liste de chacune de ces positions pour chaque metre\n",
    "'''\n",
    "def Position_methode_2(limit, list_capteurs):\n",
    "    L = []\n",
    "    for metre in range(31, 61):\n",
    "        M = []\n",
    "        for capteur in list_capteurs:\n",
    "            df = pd.read_csv('../Data_capteurs/csv_'+capteur+'.csv')\n",
    "            for index, row in df.iterrows():\n",
    "                if row[metre-31]>=df[str(metre)].max()-limit:\n",
    "                    M.append(capteur)\n",
    "        distance = 0\n",
    "        for i in range(len(M)):\n",
    "            distance += list_capteurs_dist[M[i]]\n",
    "        L.append(distance/len(M))\n",
    "    N=[]\n",
    "    for j in range(len(L)):\n",
    "        N.append(L[j]-(j+31))\n",
    "    return L, N"
   ]
  },
  {
   "cell_type": "code",
   "execution_count": 4,
   "metadata": {},
   "outputs": [],
   "source": [
    "x, y = Position_methode_2(2, list_capteurs)"
   ]
  },
  {
   "cell_type": "code",
   "execution_count": 5,
   "metadata": {},
   "outputs": [
    {
     "data": {
      "text/plain": [
       "[<matplotlib.lines.Line2D at 0x23306c2cca0>]"
      ]
     },
     "execution_count": 5,
     "metadata": {},
     "output_type": "execute_result"
    },
    {
     "data": {
      "image/png": "[encoded data removed]",
      "text/plain": [
       "<Figure size 640x480 with 1 Axes>"
      ]
     },
     "metadata": {},
     "output_type": "display_data"
    }
   ],
   "source": [
    "plt.plot(x, '.')\n",
    "plt.plot([i for i in range(30, 61)])"
   ]
  },
  {
   "cell_type": "code",
   "execution_count": null,
   "metadata": {},
   "outputs": [],
   "source": []
  }
 ],
 "metadata": {
  "kernelspec": {
   "display_name": "Python 3.9.13 64-bit (microsoft store)",
   "language": "python",
   "name": "python3"
  },
  "language_info": {
   "codemirror_mode": {
    "name": "ipython",
    "version": 3
   },
   "file_extension": ".py",
   "mimetype": "text/x-python",
   "name": "python",
   "nbconvert_exporter": "python",
   "pygments_lexer": "ipython3",
   "version": "3.9.13"
  },
  "orig_nbformat": 4,
  "vscode": {
   "interpreter": {
    "hash": "80079d8dd9f7c252f0ff3be33272006cb63eba2cb77317ddc2afd11fdc1d0064"
   }
  }
 },
 "nbformat": 4,
 "nbformat_minor": 2
}
