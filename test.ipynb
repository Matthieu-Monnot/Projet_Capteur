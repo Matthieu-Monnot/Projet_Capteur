{
 "cells": [
  {
   "cell_type": "code",
   "execution_count": 1,
   "metadata": {},
   "outputs": [
    {
     "name": "stdout",
     "output_type": "stream",
     "text": [
      "<Response [200]>\n"
     ]
    }
   ],
   "source": [
    "import requests\n",
    "import pandas as pd\n",
    "import matplotlib.pyplot as plt\n",
    "url = \"https://cartobat.com/434152544F42415450616C616973656175/getRawDataForCartoWear/E91FBA6564D2/2022-09-23%2008:45:00.000/2022-09-23%2015:00:00.000\"\n",
    "reponse = requests.get(url)\n",
    "print(reponse)"
   ]
  },
  {
   "cell_type": "code",
   "execution_count": null,
   "metadata": {},
   "outputs": [],
   "source": [
    "contenu = reponse.json()\n",
    "contenu['resultat']\n",
    "pd.DataFrame(contenu['resultat'])"
   ]
  },
  {
   "cell_type": "code",
   "execution_count": 4,
   "metadata": {},
   "outputs": [],
   "source": [
    "list_capteurs = ['C45BBE384CD2', 'C45BBE386362', 'C45BBE386952', 'C45BBE39870E', 'C45BBE39F42A', 'C45BBE39F56A', 'C45BBE39F9AE', 'AB032A311FAA', 'A8032A31204E', 'C45BBE37B346']"
   ]
  },
  {
   "cell_type": "code",
   "execution_count": 49,
   "metadata": {},
   "outputs": [],
   "source": [
    "import csv\n",
    "for i in range(10):\n",
    "    myfile = list_capteurs[i] + '.csv'\n",
    "    with open(myfile,'w',newline='') as f:\n",
    "        ecrire=csv.writer(f)\n",
    "        ecrire.writerow([list_capteurs[i]])\n",
    "        for mesure in contenu['resultat']:\n",
    "            if mesure['macModule'] == list_capteurs[i]:\n",
    "                if '2022-09-23 14:32:00.000' < mesure['timestamp'] < '2022-09-23 14:36:00.000':\n",
    "                    ecrire.writerow([mesure['rssi']])"
   ]
  },
  {
   "cell_type": "code",
   "execution_count": 50,
   "metadata": {},
   "outputs": [],
   "source": [
    "dataFrame = pd.concat(map(pd.read_csv, [list_capteurs[i]+'.csv' for i in range(10)]), ignore_index=True)\n",
    "dataFrame = dataFrame.fillna(0.0)"
   ]
  },
  {
   "cell_type": "code",
   "execution_count": 51,
   "metadata": {},
   "outputs": [],
   "source": [
    "dataFrame.to_csv(path_or_buf='csv_M_46.csv', decimal='.', sep= ',', index=False)"
   ]
  },
  {
   "cell_type": "code",
   "execution_count": 5,
   "metadata": {},
   "outputs": [],
   "source": [
    "capt1 = pd.DataFrame(columns=[metre for metre in range(31, 61)])\n",
    "capt2 = pd.DataFrame(columns=[metre for metre in range(31, 61)])\n",
    "capt3 = pd.DataFrame(columns=[metre for metre in range(31, 61)])\n",
    "capt4 = pd.DataFrame(columns=[metre for metre in range(31, 61)])\n",
    "capt5 = pd.DataFrame(columns=[metre for metre in range(31, 61)])\n",
    "capt6 = pd.DataFrame(columns=[metre for metre in range(31, 61)])\n",
    "capt7 = pd.DataFrame(columns=[metre for metre in range(31, 61)])\n",
    "capt8 = pd.DataFrame(columns=[metre for metre in range(31, 61)])\n",
    "capt9 = pd.DataFrame(columns=[metre for metre in range(31, 61)])\n",
    "capt10 = pd.DataFrame(columns=[metre for metre in range(31, 61)])"
   ]
  },
  {
   "cell_type": "code",
   "execution_count": 6,
   "metadata": {},
   "outputs": [],
   "source": [
    "dict = {'C45BBE384CD2' : capt1, 'C45BBE386362' : capt2, 'C45BBE386952' : capt3, 'C45BBE39870E' : capt4, 'C45BBE39F42A' : capt5, 'C45BBE39F56A' : capt6, 'C45BBE39F9AE' : capt7, 'AB032A311FAA' : capt8, 'A8032A31204E' : capt9, 'C45BBE37B346' : capt10}"
   ]
  },
  {
   "cell_type": "code",
   "execution_count": null,
   "metadata": {},
   "outputs": [],
   "source": [
    "for metre in range(31, 61):\n",
    "    path = './Data_metres/csv_M_' + str(metre) + '.csv'\n",
    "    df = pd.read_csv(path)\n",
    "    for col in df.columns:\n",
    "        df2=pd.DataFrame(df[col])\n",
    "        for index, row in df2.iterrows():\n",
    "            if row[0] == 0:\n",
    "                df2 = df2.drop(index, 0)\n",
    "            dict[col][metre]=df2"
   ]
  },
  {
   "cell_type": "code",
   "execution_count": 8,
   "metadata": {},
   "outputs": [],
   "source": [
    "for capteur in list_capteurs:\n",
    "    dict[capteur].to_csv(path_or_buf='./Data_capteurs/csv_' + capteur + '.csv', decimal='.', sep= ',', index=False)"
   ]
  },
  {
   "cell_type": "code",
   "execution_count": null,
   "metadata": {},
   "outputs": [],
   "source": [
    "df = pd.read_csv('./Data_capteurs/csv_A8032A31204E.csv')\n",
    "df.transpose().plot(style='+', legend=False, title='Répartition des rssi selon la position pour le capteur A8032A31204E')"
   ]
  },
  {
   "cell_type": "code",
   "execution_count": null,
   "metadata": {},
   "outputs": [],
   "source": [
    "plt.figure(figsize=(16, 32), dpi=80)\n",
    "for i, capteur in enumerate(list_capteurs):\n",
    "    df = pd.read_csv('./Data_capteurs/csv_'+capteur+'.csv')\n",
    "    plt.subplot(5, 2, i+1)\n",
    "    plt.plot(df.transpose(), '+')\n",
    "    plt.title(f'Répartition des rssi selon la position pour le capteur {capteur}')"
   ]
  },
  {
   "cell_type": "code",
   "execution_count": 2,
   "metadata": {},
   "outputs": [],
   "source": [
    "list_capteurs_dist = {'C45BBE384CD2' : 0, 'C45BBE386362' : 80, 'C45BBE386952' : 65, 'C45BBE39870E' : 0, 'C45BBE39F42A' : 0, 'C45BBE39F56A' : 56, 'C45BBE39F9AE' : 13, 'AB032A311FAA' : 4, 'A8032A31204E' : 29, 'C45BBE37B346' : 52}"
   ]
  },
  {
   "cell_type": "code",
   "execution_count": 3,
   "metadata": {},
   "outputs": [],
   "source": [
    "df = pd.read_csv('./Selected/A8032A31204E.csv')"
   ]
  },
  {
   "cell_type": "code",
   "execution_count": 6,
   "metadata": {},
   "outputs": [
    {
     "data": {
      "text/html": [
       "<div>\n",
       "<style scoped>\n",
       "    .dataframe tbody tr th:only-of-type {\n",
       "        vertical-align: middle;\n",
       "    }\n",
       "\n",
       "    .dataframe tbody tr th {\n",
       "        vertical-align: top;\n",
       "    }\n",
       "\n",
       "    .dataframe thead th {\n",
       "        text-align: right;\n",
       "    }\n",
       "</style>\n",
       "<table border=\"1\" class=\"dataframe\">\n",
       "  <thead>\n",
       "    <tr style=\"text-align: right;\">\n",
       "      <th></th>\n",
       "      <th>Unnamed: 0</th>\n",
       "      <th>10.0</th>\n",
       "      <th>11.0</th>\n",
       "      <th>13.0</th>\n",
       "      <th>14.0</th>\n",
       "      <th>15.0</th>\n",
       "      <th>16.0</th>\n",
       "      <th>17.0</th>\n",
       "      <th>18.0</th>\n",
       "      <th>19.0</th>\n",
       "      <th>...</th>\n",
       "      <th>35.0</th>\n",
       "      <th>36.0</th>\n",
       "      <th>37.0</th>\n",
       "      <th>38.0</th>\n",
       "      <th>39.0</th>\n",
       "      <th>40.0</th>\n",
       "      <th>41.0</th>\n",
       "      <th>42.0</th>\n",
       "      <th>43.0</th>\n",
       "      <th>44.0</th>\n",
       "    </tr>\n",
       "  </thead>\n",
       "  <tbody>\n",
       "    <tr>\n",
       "      <th>0</th>\n",
       "      <td>0</td>\n",
       "      <td>-80.0</td>\n",
       "      <td>-80.0</td>\n",
       "      <td>-80.0</td>\n",
       "      <td>-76.0</td>\n",
       "      <td>-76.0</td>\n",
       "      <td>-73.0</td>\n",
       "      <td>-76.0</td>\n",
       "      <td>-80.0</td>\n",
       "      <td>-78.0</td>\n",
       "      <td>...</td>\n",
       "      <td>-75.0</td>\n",
       "      <td>-78.0</td>\n",
       "      <td>-68.0</td>\n",
       "      <td>-79.0</td>\n",
       "      <td>-79.0</td>\n",
       "      <td>-72.0</td>\n",
       "      <td>-75.0</td>\n",
       "      <td>-78.0</td>\n",
       "      <td>-79.0</td>\n",
       "      <td>-76.0</td>\n",
       "    </tr>\n",
       "    <tr>\n",
       "      <th>1</th>\n",
       "      <td>1</td>\n",
       "      <td>NaN</td>\n",
       "      <td>NaN</td>\n",
       "      <td>-74.0</td>\n",
       "      <td>-79.0</td>\n",
       "      <td>-70.0</td>\n",
       "      <td>-68.0</td>\n",
       "      <td>-78.0</td>\n",
       "      <td>-78.0</td>\n",
       "      <td>-68.0</td>\n",
       "      <td>...</td>\n",
       "      <td>-79.0</td>\n",
       "      <td>-79.0</td>\n",
       "      <td>-70.0</td>\n",
       "      <td>-73.0</td>\n",
       "      <td>-76.0</td>\n",
       "      <td>-80.0</td>\n",
       "      <td>-78.0</td>\n",
       "      <td>-76.0</td>\n",
       "      <td>-80.0</td>\n",
       "      <td>-65.0</td>\n",
       "    </tr>\n",
       "    <tr>\n",
       "      <th>2</th>\n",
       "      <td>2</td>\n",
       "      <td>NaN</td>\n",
       "      <td>NaN</td>\n",
       "      <td>-80.0</td>\n",
       "      <td>NaN</td>\n",
       "      <td>-79.0</td>\n",
       "      <td>-77.0</td>\n",
       "      <td>-75.0</td>\n",
       "      <td>NaN</td>\n",
       "      <td>-74.0</td>\n",
       "      <td>...</td>\n",
       "      <td>-68.0</td>\n",
       "      <td>-70.0</td>\n",
       "      <td>-71.0</td>\n",
       "      <td>-80.0</td>\n",
       "      <td>-65.0</td>\n",
       "      <td>-79.0</td>\n",
       "      <td>-80.0</td>\n",
       "      <td>NaN</td>\n",
       "      <td>-80.0</td>\n",
       "      <td>-70.0</td>\n",
       "    </tr>\n",
       "    <tr>\n",
       "      <th>3</th>\n",
       "      <td>3</td>\n",
       "      <td>NaN</td>\n",
       "      <td>NaN</td>\n",
       "      <td>NaN</td>\n",
       "      <td>NaN</td>\n",
       "      <td>-80.0</td>\n",
       "      <td>-79.0</td>\n",
       "      <td>NaN</td>\n",
       "      <td>NaN</td>\n",
       "      <td>-76.0</td>\n",
       "      <td>...</td>\n",
       "      <td>-75.0</td>\n",
       "      <td>-75.0</td>\n",
       "      <td>-70.0</td>\n",
       "      <td>-76.0</td>\n",
       "      <td>-62.0</td>\n",
       "      <td>-70.0</td>\n",
       "      <td>-78.0</td>\n",
       "      <td>NaN</td>\n",
       "      <td>-79.0</td>\n",
       "      <td>NaN</td>\n",
       "    </tr>\n",
       "    <tr>\n",
       "      <th>4</th>\n",
       "      <td>4</td>\n",
       "      <td>NaN</td>\n",
       "      <td>NaN</td>\n",
       "      <td>NaN</td>\n",
       "      <td>NaN</td>\n",
       "      <td>-67.0</td>\n",
       "      <td>-80.0</td>\n",
       "      <td>NaN</td>\n",
       "      <td>NaN</td>\n",
       "      <td>-73.0</td>\n",
       "      <td>...</td>\n",
       "      <td>-68.0</td>\n",
       "      <td>-73.0</td>\n",
       "      <td>-73.0</td>\n",
       "      <td>-77.0</td>\n",
       "      <td>-79.0</td>\n",
       "      <td>-64.0</td>\n",
       "      <td>NaN</td>\n",
       "      <td>NaN</td>\n",
       "      <td>NaN</td>\n",
       "      <td>NaN</td>\n",
       "    </tr>\n",
       "    <tr>\n",
       "      <th>5</th>\n",
       "      <td>5</td>\n",
       "      <td>NaN</td>\n",
       "      <td>NaN</td>\n",
       "      <td>NaN</td>\n",
       "      <td>NaN</td>\n",
       "      <td>-79.0</td>\n",
       "      <td>NaN</td>\n",
       "      <td>NaN</td>\n",
       "      <td>NaN</td>\n",
       "      <td>-72.0</td>\n",
       "      <td>...</td>\n",
       "      <td>-67.0</td>\n",
       "      <td>-66.0</td>\n",
       "      <td>-72.0</td>\n",
       "      <td>NaN</td>\n",
       "      <td>NaN</td>\n",
       "      <td>-80.0</td>\n",
       "      <td>NaN</td>\n",
       "      <td>NaN</td>\n",
       "      <td>NaN</td>\n",
       "      <td>NaN</td>\n",
       "    </tr>\n",
       "    <tr>\n",
       "      <th>6</th>\n",
       "      <td>6</td>\n",
       "      <td>NaN</td>\n",
       "      <td>NaN</td>\n",
       "      <td>NaN</td>\n",
       "      <td>NaN</td>\n",
       "      <td>NaN</td>\n",
       "      <td>NaN</td>\n",
       "      <td>NaN</td>\n",
       "      <td>NaN</td>\n",
       "      <td>NaN</td>\n",
       "      <td>...</td>\n",
       "      <td>NaN</td>\n",
       "      <td>NaN</td>\n",
       "      <td>NaN</td>\n",
       "      <td>NaN</td>\n",
       "      <td>NaN</td>\n",
       "      <td>NaN</td>\n",
       "      <td>NaN</td>\n",
       "      <td>NaN</td>\n",
       "      <td>NaN</td>\n",
       "      <td>NaN</td>\n",
       "    </tr>\n",
       "  </tbody>\n",
       "</table>\n",
       "<p>7 rows × 35 columns</p>\n",
       "</div>"
      ],
      "text/plain": [
       "   Unnamed: 0  10.0  11.0  13.0  14.0  15.0  16.0  17.0  18.0  19.0  ...  \\\n",
       "0           0 -80.0 -80.0 -80.0 -76.0 -76.0 -73.0 -76.0 -80.0 -78.0  ...   \n",
       "1           1   NaN   NaN -74.0 -79.0 -70.0 -68.0 -78.0 -78.0 -68.0  ...   \n",
       "2           2   NaN   NaN -80.0   NaN -79.0 -77.0 -75.0   NaN -74.0  ...   \n",
       "3           3   NaN   NaN   NaN   NaN -80.0 -79.0   NaN   NaN -76.0  ...   \n",
       "4           4   NaN   NaN   NaN   NaN -67.0 -80.0   NaN   NaN -73.0  ...   \n",
       "5           5   NaN   NaN   NaN   NaN -79.0   NaN   NaN   NaN -72.0  ...   \n",
       "6           6   NaN   NaN   NaN   NaN   NaN   NaN   NaN   NaN   NaN  ...   \n",
       "\n",
       "   35.0  36.0  37.0  38.0  39.0  40.0  41.0  42.0  43.0  44.0  \n",
       "0 -75.0 -78.0 -68.0 -79.0 -79.0 -72.0 -75.0 -78.0 -79.0 -76.0  \n",
       "1 -79.0 -79.0 -70.0 -73.0 -76.0 -80.0 -78.0 -76.0 -80.0 -65.0  \n",
       "2 -68.0 -70.0 -71.0 -80.0 -65.0 -79.0 -80.0   NaN -80.0 -70.0  \n",
       "3 -75.0 -75.0 -70.0 -76.0 -62.0 -70.0 -78.0   NaN -79.0   NaN  \n",
       "4 -68.0 -73.0 -73.0 -77.0 -79.0 -64.0   NaN   NaN   NaN   NaN  \n",
       "5 -67.0 -66.0 -72.0   NaN   NaN -80.0   NaN   NaN   NaN   NaN  \n",
       "6   NaN   NaN   NaN   NaN   NaN   NaN   NaN   NaN   NaN   NaN  \n",
       "\n",
       "[7 rows x 35 columns]"
      ]
     },
     "execution_count": 6,
     "metadata": {},
     "output_type": "execute_result"
    }
   ],
   "source": [
    "df"
   ]
  },
  {
   "cell_type": "code",
   "execution_count": null,
   "metadata": {},
   "outputs": [],
   "source": []
  }
 ],
 "metadata": {
  "kernelspec": {
   "display_name": "Python 3.9.13 64-bit (microsoft store)",
   "language": "python",
   "name": "python3"
  },
  "language_info": {
   "codemirror_mode": {
    "name": "ipython",
    "version": 3
   },
   "file_extension": ".py",
   "mimetype": "text/x-python",
   "name": "python",
   "nbconvert_exporter": "python",
   "pygments_lexer": "ipython3",
   "version": "3.9.13"
  },
  "orig_nbformat": 4,
  "vscode": {
   "interpreter": {
    "hash": "80079d8dd9f7c252f0ff3be33272006cb63eba2cb77317ddc2afd11fdc1d0064"
   }
  }
 },
 "nbformat": 4,
 "nbformat_minor": 2
}
