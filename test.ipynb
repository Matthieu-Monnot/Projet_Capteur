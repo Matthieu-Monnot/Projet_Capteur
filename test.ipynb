{
 "cells": [
  {
   "cell_type": "code",
   "execution_count": 26,
   "metadata": {},
   "outputs": [
    {
     "name": "stdout",
     "output_type": "stream",
     "text": [
      "<Response [200]>\n"
     ]
    }
   ],
   "source": [
    "import requests\n",
    "import pandas as pd\n",
    "import matplotlib.pyplot as plt\n",
    "url = \"https://cartobat.com/434152544F42415450616C616973656175/getRawDataForCartoWear/E91FBA6564D2/2022-09-23%2008:45:00.000/2022-09-23%2015:00:00.000\"\n",
    "reponse = requests.get(url)\n",
    "print(reponse)"
   ]
  },
  {
   "cell_type": "code",
   "execution_count": null,
   "metadata": {},
   "outputs": [],
   "source": [
    "contenu = reponse.json()\n",
    "contenu['resultat']\n",
    "pd.DataFrame(contenu['resultat'])"
   ]
  },
  {
   "cell_type": "code",
   "execution_count": 4,
   "metadata": {},
   "outputs": [],
   "source": [
    "list_capteurs = ['C45BBE384CD2', 'C45BBE386362', 'C45BBE386952', 'C45BBE39870E', 'C45BBE39F42A', 'C45BBE39F56A', 'C45BBE39F9AE', 'AB032A311FAA', 'A8032A31204E', 'C45BBE37B346']"
   ]
  },
  {
   "cell_type": "code",
   "execution_count": 49,
   "metadata": {},
   "outputs": [],
   "source": [
    "import csv\n",
    "for i in range(10):\n",
    "    myfile = list_capteurs[i] + '.csv'\n",
    "    with open(myfile,'w',newline='') as f:\n",
    "        ecrire=csv.writer(f)\n",
    "        ecrire.writerow([list_capteurs[i]])\n",
    "        for mesure in contenu['resultat']:\n",
    "            if mesure['macModule'] == list_capteurs[i]:\n",
    "                if '2022-09-23 14:32:00.000' < mesure['timestamp'] < '2022-09-23 14:36:00.000':\n",
    "                    ecrire.writerow([mesure['rssi']])"
   ]
  },
  {
   "cell_type": "code",
   "execution_count": 50,
   "metadata": {},
   "outputs": [],
   "source": [
    "dataFrame = pd.concat(map(pd.read_csv, [list_capteurs[i]+'.csv' for i in range(10)]), ignore_index=True)\n",
    "dataFrame = dataFrame.fillna(0.0)"
   ]
  },
  {
   "cell_type": "code",
   "execution_count": 51,
   "metadata": {},
   "outputs": [],
   "source": [
    "dataFrame.to_csv(path_or_buf='csv_M_46.csv', decimal='.', sep= ',', index=False)"
   ]
  },
  {
   "cell_type": "code",
   "execution_count": 5,
   "metadata": {},
   "outputs": [],
   "source": [
    "capt1 = pd.DataFrame(columns=[metre for metre in range(31, 61)])\n",
    "capt2 = pd.DataFrame(columns=[metre for metre in range(31, 61)])\n",
    "capt3 = pd.DataFrame(columns=[metre for metre in range(31, 61)])\n",
    "capt4 = pd.DataFrame(columns=[metre for metre in range(31, 61)])\n",
    "capt5 = pd.DataFrame(columns=[metre for metre in range(31, 61)])\n",
    "capt6 = pd.DataFrame(columns=[metre for metre in range(31, 61)])\n",
    "capt7 = pd.DataFrame(columns=[metre for metre in range(31, 61)])\n",
    "capt8 = pd.DataFrame(columns=[metre for metre in range(31, 61)])\n",
    "capt9 = pd.DataFrame(columns=[metre for metre in range(31, 61)])\n",
    "capt10 = pd.DataFrame(columns=[metre for metre in range(31, 61)])"
   ]
  },
  {
   "cell_type": "code",
   "execution_count": 6,
   "metadata": {},
   "outputs": [],
   "source": [
    "dict = {'C45BBE384CD2' : capt1, 'C45BBE386362' : capt2, 'C45BBE386952' : capt3, 'C45BBE39870E' : capt4, 'C45BBE39F42A' : capt5, 'C45BBE39F56A' : capt6, 'C45BBE39F9AE' : capt7, 'AB032A311FAA' : capt8, 'A8032A31204E' : capt9, 'C45BBE37B346' : capt10}"
   ]
  },
  {
   "cell_type": "code",
   "execution_count": null,
   "metadata": {},
   "outputs": [],
   "source": [
    "for metre in range(31, 61):\n",
    "    path = './Data_metres/csv_M_' + str(metre) + '.csv'\n",
    "    df = pd.read_csv(path)\n",
    "    for col in df.columns:\n",
    "        df2=pd.DataFrame(df[col])\n",
    "        for index, row in df2.iterrows():\n",
    "            if row[0] == 0:\n",
    "                df2 = df2.drop(index, 0)\n",
    "            dict[col][metre]=df2"
   ]
  },
  {
   "cell_type": "code",
   "execution_count": 8,
   "metadata": {},
   "outputs": [],
   "source": [
    "for capteur in list_capteurs:\n",
    "    dict[capteur].to_csv(path_or_buf='./Data_capteurs/csv_' + capteur + '.csv', decimal='.', sep= ',', index=False)"
   ]
  },
  {
   "cell_type": "code",
   "execution_count": null,
   "metadata": {},
   "outputs": [],
   "source": [
    "df = pd.read_csv('./Data_capteurs/csv_A8032A31204E.csv')\n",
    "df.transpose().plot(style='+', legend=False, title='Répartition des rssi selon la position pour le capteur A8032A31204E')"
   ]
  },
  {
   "cell_type": "code",
   "execution_count": null,
   "metadata": {},
   "outputs": [],
   "source": [
    "plt.figure(figsize=(16, 32), dpi=80)\n",
    "for i, capteur in enumerate(list_capteurs):\n",
    "    df = pd.read_csv('./Data_capteurs/csv_'+capteur+'.csv')\n",
    "    plt.subplot(5, 2, i+1)\n",
    "    plt.plot(df.transpose(), '+')\n",
    "    plt.title(f'Répartition des rssi selon la position pour le capteur {capteur}')"
   ]
  },
  {
   "cell_type": "code",
   "execution_count": null,
   "metadata": {},
   "outputs": [],
   "source": [
    "# Fonction qui met à jour les csv de chaque capteur avec la base de données brute 'fichier'\n",
    "def Data_base_capteurs_update(fichier, list_capteurs):\n",
    "    data = pd.read_csv('./'+fichier+'.csv')\n",
    "    for capteur in list_capteurs:\n",
    "        df = pd.read_csv('./Data_capteurs/csv_'+capteur+'.csv')\n",
    "        for row in data:\n",
    "            if row['macModule'] == capteur: \n",
    "                df=df.append({row['metre'] : row['rssi']} , ignore_index=True)          "
   ]
  },
  {
   "cell_type": "code",
   "execution_count": null,
   "metadata": {},
   "outputs": [],
   "source": [
    "Data_base_capteurs_update('tableau_brute', list_capteurs)"
   ]
  }
 ],
 "metadata": {
  "kernelspec": {
   "display_name": "Python 3.9.13 64-bit (microsoft store)",
   "language": "python",
   "name": "python3"
  },
  "language_info": {
   "codemirror_mode": {
    "name": "ipython",
    "version": 3
   },
   "file_extension": ".py",
   "mimetype": "text/x-python",
   "name": "python",
   "nbconvert_exporter": "python",
   "pygments_lexer": "ipython3",
   "version": "3.9.13"
  },
  "orig_nbformat": 4,
  "vscode": {
   "interpreter": {
    "hash": "80079d8dd9f7c252f0ff3be33272006cb63eba2cb77317ddc2afd11fdc1d0064"
   }
  }
 },
 "nbformat": 4,
 "nbformat_minor": 2
}
